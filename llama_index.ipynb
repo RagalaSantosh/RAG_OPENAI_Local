{
 "cells": [
  {
   "cell_type": "code",
   "execution_count": 1,
   "metadata": {},
   "outputs": [
    {
     "data": {
      "text/plain": [
       "True"
      ]
     },
     "execution_count": 1,
     "metadata": {},
     "output_type": "execute_result"
    }
   ],
   "source": [
    "import os\n",
    "from dotenv import load_dotenv\n",
    "\n",
    "load_dotenv()"
   ]
  },
  {
   "cell_type": "code",
   "execution_count": 2,
   "metadata": {},
   "outputs": [],
   "source": [
    "os.environ[\"OPENAI_API_KEY\"] = os.getenv(\"OPENAI_API_KEY\")"
   ]
  },
  {
   "cell_type": "code",
   "execution_count": 3,
   "metadata": {},
   "outputs": [],
   "source": [
    "from llama_index.core import VectorStoreIndex, SimpleDirectoryReader, ServiceContext\n",
    "documents = SimpleDirectoryReader(\"input\").load_data()"
   ]
  },
  {
   "cell_type": "code",
   "execution_count": 4,
   "metadata": {},
   "outputs": [
    {
     "data": {
      "text/plain": [
       "[Document(id_='4584cdce-6232-4df9-8616-82eb9e24d753', embedding=None, metadata={'page_label': '1', 'file_name': 'ai.pdf', 'file_path': 'c:\\\\Users\\\\user\\\\PycharmProjects\\\\RAG_Query_OpenAI\\\\input\\\\ai.pdf', 'file_type': 'application/pdf', 'file_size': 2623149, 'creation_date': '2024-06-04', 'last_modified_date': '2024-06-04'}, excluded_embed_metadata_keys=['file_name', 'file_type', 'file_size', 'creation_date', 'last_modified_date', 'last_accessed_date'], excluded_llm_metadata_keys=['file_name', 'file_type', 'file_size', 'creation_date', 'last_modified_date', 'last_accessed_date'], relationships={}, text='AN INTRODUCTION TO \\nARTIFICIAL INTELLIGENCE\\nCOMPILED BY HOWIE BAUM1\\n', start_char_idx=None, end_char_idx=None, text_template='{metadata_str}\\n\\n{content}', metadata_template='{key}: {value}', metadata_seperator='\\n'),\n",
       " Document(id_='ba2346b4-c483-4eeb-921d-b7e950bf1b07', embedding=None, metadata={'page_label': '2', 'file_name': 'ai.pdf', 'file_path': 'c:\\\\Users\\\\user\\\\PycharmProjects\\\\RAG_Query_OpenAI\\\\input\\\\ai.pdf', 'file_type': 'application/pdf', 'file_size': 2623149, 'creation_date': '2024-06-04', 'last_modified_date': '2024-06-04'}, excluded_embed_metadata_keys=['file_name', 'file_type', 'file_size', 'creation_date', 'last_modified_date', 'last_accessed_date'], excluded_llm_metadata_keys=['file_name', 'file_type', 'file_size', 'creation_date', 'last_modified_date', 'last_accessed_date'], relationships={}, text='2\\n•Artificial intelligence (AI), sometimes called machine intelligence , \\nisintelligence demonstrated by machines, in contrast to the natural \\nintelligence displayed by humans and other animals, such as \"learning\" \\nand \"problem solving. . \\n\\uf0d8Incomputer science AI research is defined as the study of \\n\"intelligent agents\": any device that perceives its environment and \\ntakes actions that maximize its chance of successfully achieving its \\ngoals.', start_char_idx=None, end_char_idx=None, text_template='{metadata_str}\\n\\n{content}', metadata_template='{key}: {value}', metadata_seperator='\\n'),\n",
       " Document(id_='8cdd8182-946e-417a-89d1-38eb9e0e55a0', embedding=None, metadata={'page_label': '3', 'file_name': 'ai.pdf', 'file_path': 'c:\\\\Users\\\\user\\\\PycharmProjects\\\\RAG_Query_OpenAI\\\\input\\\\ai.pdf', 'file_type': 'application/pdf', 'file_size': 2623149, 'creation_date': '2024-06-04', 'last_modified_date': '2024-06-04'}, excluded_embed_metadata_keys=['file_name', 'file_type', 'file_size', 'creation_date', 'last_modified_date', 'last_accessed_date'], excluded_llm_metadata_keys=['file_name', 'file_type', 'file_size', 'creation_date', 'last_modified_date', 'last_accessed_date'], relationships={}, text='HOW ARE HUMANS INTELLIGENT ?\\n•Learning\\n•Reasoning\\n•Problem Solving and Creativity\\n•Social Behavior\\n•Experiencing our Environment with our senses:\\n•Hearing\\n•Sight\\n•Touch\\n•Taste\\n•Smelling3', start_char_idx=None, end_char_idx=None, text_template='{metadata_str}\\n\\n{content}', metadata_template='{key}: {value}', metadata_seperator='\\n'),\n",
       " Document(id_='e3c839f5-09c5-4f02-9db4-09a3361da956', embedding=None, metadata={'page_label': '4', 'file_name': 'ai.pdf', 'file_path': 'c:\\\\Users\\\\user\\\\PycharmProjects\\\\RAG_Query_OpenAI\\\\input\\\\ai.pdf', 'file_type': 'application/pdf', 'file_size': 2623149, 'creation_date': '2024-06-04', 'last_modified_date': '2024-06-04'}, excluded_embed_metadata_keys=['file_name', 'file_type', 'file_size', 'creation_date', 'last_modified_date', 'last_accessed_date'], excluded_llm_metadata_keys=['file_name', 'file_type', 'file_size', 'creation_date', 'last_modified_date', 'last_accessed_date'], relationships={}, text='4\\n', start_char_idx=None, end_char_idx=None, text_template='{metadata_str}\\n\\n{content}', metadata_template='{key}: {value}', metadata_seperator='\\n'),\n",
       " Document(id_='7616817f-c6f8-43d7-84f6-bf420676012a', embedding=None, metadata={'page_label': '5', 'file_name': 'ai.pdf', 'file_path': 'c:\\\\Users\\\\user\\\\PycharmProjects\\\\RAG_Query_OpenAI\\\\input\\\\ai.pdf', 'file_type': 'application/pdf', 'file_size': 2623149, 'creation_date': '2024-06-04', 'last_modified_date': '2024-06-04'}, excluded_embed_metadata_keys=['file_name', 'file_type', 'file_size', 'creation_date', 'last_modified_date', 'last_accessed_date'], excluded_llm_metadata_keys=['file_name', 'file_type', 'file_size', 'creation_date', 'last_modified_date', 'last_accessed_date'], relationships={}, text=\"Ways that People Think and Learn \\nAbout Things \\n•If you have a problem, think of a past situation \\nwhere you solved a similar problem. \\n•If you take an action, anticipate what might happen \\nnext. \\n•If you fail at something, imagine how you might \\nhave done things differently. \\n•If you observe an event, try to infer what prior event \\nmight have caused it. \\n•If you see an object, wonder if anyone owns it. \\n•If someone does something, ask yourself what the \\nperson's purpose was in doing that. \\n5\", start_char_idx=None, end_char_idx=None, text_template='{metadata_str}\\n\\n{content}', metadata_template='{key}: {value}', metadata_seperator='\\n'),\n",
       " Document(id_='c06b032b-6980-4a69-b7c0-c602113bdc76', embedding=None, metadata={'page_label': '6', 'file_name': 'ai.pdf', 'file_path': 'c:\\\\Users\\\\user\\\\PycharmProjects\\\\RAG_Query_OpenAI\\\\input\\\\ai.pdf', 'file_type': 'application/pdf', 'file_size': 2623149, 'creation_date': '2024-06-04', 'last_modified_date': '2024-06-04'}, excluded_embed_metadata_keys=['file_name', 'file_type', 'file_size', 'creation_date', 'last_modified_date', 'last_accessed_date'], excluded_llm_metadata_keys=['file_name', 'file_type', 'file_size', 'creation_date', 'last_modified_date', 'last_accessed_date'], relationships={}, text='This is what \\nHumans do \\nbest\\nCan you list \\nthe items in \\nthis picture ?\\nA computer \\nmight have \\ntrouble \\nidentifying the \\ncat there.Can you count the \\ndistribution of \\nletters in a book?\\nAdd a thousand  \\n4-digit numbers?\\nMatch finger \\nprints?\\nSearch a list of a \\nmillion values\\nfor duplicates ?This is what \\nComputers do bestArtificial intelligence (AI) -The study of computer systems that \\nattempt to model and apply the intelligence of the human mind.\\nFor example, writing a program to pick out objects in a picture:\\n6', start_char_idx=None, end_char_idx=None, text_template='{metadata_str}\\n\\n{content}', metadata_template='{key}: {value}', metadata_seperator='\\n'),\n",
       " Document(id_='770e9f80-816b-4c1c-beaa-515610573a61', embedding=None, metadata={'page_label': '7', 'file_name': 'ai.pdf', 'file_path': 'c:\\\\Users\\\\user\\\\PycharmProjects\\\\RAG_Query_OpenAI\\\\input\\\\ai.pdf', 'file_type': 'application/pdf', 'file_size': 2623149, 'creation_date': '2024-06-04', 'last_modified_date': '2024-06-04'}, excluded_embed_metadata_keys=['file_name', 'file_type', 'file_size', 'creation_date', 'last_modified_date', 'last_accessed_date'], excluded_llm_metadata_keys=['file_name', 'file_type', 'file_size', 'creation_date', 'last_modified_date', 'last_accessed_date'], relationships={}, text='When we compare Humans to Machines, it is important to note that a \\nMachine can be a car, a Smart Phone, a Digital Television, etc.\\n7', start_char_idx=None, end_char_idx=None, text_template='{metadata_str}\\n\\n{content}', metadata_template='{key}: {value}', metadata_seperator='\\n'),\n",
       " Document(id_='f7f199ed-5560-462e-a253-823d3d06a0be', embedding=None, metadata={'page_label': '8', 'file_name': 'ai.pdf', 'file_path': 'c:\\\\Users\\\\user\\\\PycharmProjects\\\\RAG_Query_OpenAI\\\\input\\\\ai.pdf', 'file_type': 'application/pdf', 'file_size': 2623149, 'creation_date': '2024-06-04', 'last_modified_date': '2024-06-04'}, excluded_embed_metadata_keys=['file_name', 'file_type', 'file_size', 'creation_date', 'last_modified_date', 'last_accessed_date'], excluded_llm_metadata_keys=['file_name', 'file_type', 'file_size', 'creation_date', 'last_modified_date', 'last_accessed_date'], relationships={}, text='8', start_char_idx=None, end_char_idx=None, text_template='{metadata_str}\\n\\n{content}', metadata_template='{key}: {value}', metadata_seperator='\\n'),\n",
       " Document(id_='47db8c3a-4927-4a78-8990-8ae97769c50e', embedding=None, metadata={'page_label': '9', 'file_name': 'ai.pdf', 'file_path': 'c:\\\\Users\\\\user\\\\PycharmProjects\\\\RAG_Query_OpenAI\\\\input\\\\ai.pdf', 'file_type': 'application/pdf', 'file_size': 2623149, 'creation_date': '2024-06-04', 'last_modified_date': '2024-06-04'}, excluded_embed_metadata_keys=['file_name', 'file_type', 'file_size', 'creation_date', 'last_modified_date', 'last_accessed_date'], excluded_llm_metadata_keys=['file_name', 'file_type', 'file_size', 'creation_date', 'last_modified_date', 'last_accessed_date'], relationships={}, text='9\\nThe illustration below illustrates a typical information flow between the \\n\"human\" and \"machine\" components of a system.   For a properly designed \\nsystem, its important to know the capabilities and flexibilities of both.\\nhttps://www.hf.faa.gov/webtraining/HFModel/HFInterModel/overview.htm', start_char_idx=None, end_char_idx=None, text_template='{metadata_str}\\n\\n{content}', metadata_template='{key}: {value}', metadata_seperator='\\n'),\n",
       " Document(id_='9a243b95-4e46-4f72-a337-eeb3f85600f9', embedding=None, metadata={'page_label': '10', 'file_name': 'ai.pdf', 'file_path': 'c:\\\\Users\\\\user\\\\PycharmProjects\\\\RAG_Query_OpenAI\\\\input\\\\ai.pdf', 'file_type': 'application/pdf', 'file_size': 2623149, 'creation_date': '2024-06-04', 'last_modified_date': '2024-06-04'}, excluded_embed_metadata_keys=['file_name', 'file_type', 'file_size', 'creation_date', 'last_modified_date', 'last_accessed_date'], excluded_llm_metadata_keys=['file_name', 'file_type', 'file_size', 'creation_date', 'last_modified_date', 'last_accessed_date'], relationships={}, text='10\\n', start_char_idx=None, end_char_idx=None, text_template='{metadata_str}\\n\\n{content}', metadata_template='{key}: {value}', metadata_seperator='\\n'),\n",
       " Document(id_='c38eea13-4f3a-4b83-a2c0-85004c5d673f', embedding=None, metadata={'page_label': '11', 'file_name': 'ai.pdf', 'file_path': 'c:\\\\Users\\\\user\\\\PycharmProjects\\\\RAG_Query_OpenAI\\\\input\\\\ai.pdf', 'file_type': 'application/pdf', 'file_size': 2623149, 'creation_date': '2024-06-04', 'last_modified_date': '2024-06-04'}, excluded_embed_metadata_keys=['file_name', 'file_type', 'file_size', 'creation_date', 'last_modified_date', 'last_accessed_date'], excluded_llm_metadata_keys=['file_name', 'file_type', 'file_size', 'creation_date', 'last_modified_date', 'last_accessed_date'], relationships={}, text='KEY RESEARCH AREAS IN AI\\n•Problem solving, planning, and search ---generic problem solving \\narchitecture based on ideas from cognitive science (game playing, \\nrobotics).\\n•Knowledge Representation –to store and manipulate information \\n(logical and probabilistic representations)\\n•Automated reasoning / Inference –to use the stored information to \\nanswer questions and draw new conclusions\\n•Machine  Learning –intelligence from data; to adapt to new \\ncircumstances and to detect and extrapolate patterns\\n•Natural Language Processing –to communicate with the machine\\n•Computer Vision ---processing visual information\\n•Robotics ---Autonomy, manipulation, full integration of AI \\ncapabilities11', start_char_idx=None, end_char_idx=None, text_template='{metadata_str}\\n\\n{content}', metadata_template='{key}: {value}', metadata_seperator='\\n'),\n",
       " Document(id_='d9023e79-136f-402d-bc06-3d3e8ba32b2a', embedding=None, metadata={'page_label': '12', 'file_name': 'ai.pdf', 'file_path': 'c:\\\\Users\\\\user\\\\PycharmProjects\\\\RAG_Query_OpenAI\\\\input\\\\ai.pdf', 'file_type': 'application/pdf', 'file_size': 2623149, 'creation_date': '2024-06-04', 'last_modified_date': '2024-06-04'}, excluded_embed_metadata_keys=['file_name', 'file_type', 'file_size', 'creation_date', 'last_modified_date', 'last_accessed_date'], excluded_llm_metadata_keys=['file_name', 'file_type', 'file_size', 'creation_date', 'last_modified_date', 'last_accessed_date'], relationships={}, text='From SIRI and Alexa, to self -driving cars, artificial \\nintelligence (AI) is progressing rapidly. \\nWhile science fiction often portrays AI as robots with human -like \\ncharacteristics, AI can encompass anything from Google’s search \\nalgorithms, to IBM’s Watson, to autonomous weapons.\\nArtificial intelligence today is properly known as narrow AI \\n(or weak AI) , in that it is designed to perform a narrow \\ntask such as only facial recognition, or only internet \\nsearches, or only driving a car). \\nHowever, the long -term goal of many researchers is to \\ncreate general AI (AGI or strong AI) . \\nWhile narrow AI may outperform humans at whatever its \\nspecific task is, like playing chess or solving equations, AGI \\nwould outperform humans at nearly every thinking task.\\n12', start_char_idx=None, end_char_idx=None, text_template='{metadata_str}\\n\\n{content}', metadata_template='{key}: {value}', metadata_seperator='\\n'),\n",
       " Document(id_='e40c9183-8dd0-40a2-bcec-47e34568198e', embedding=None, metadata={'page_label': '13', 'file_name': 'ai.pdf', 'file_path': 'c:\\\\Users\\\\user\\\\PycharmProjects\\\\RAG_Query_OpenAI\\\\input\\\\ai.pdf', 'file_type': 'application/pdf', 'file_size': 2623149, 'creation_date': '2024-06-04', 'last_modified_date': '2024-06-04'}, excluded_embed_metadata_keys=['file_name', 'file_type', 'file_size', 'creation_date', 'last_modified_date', 'last_accessed_date'], excluded_llm_metadata_keys=['file_name', 'file_type', 'file_size', 'creation_date', 'last_modified_date', 'last_accessed_date'], relationships={}, text='13\\n', start_char_idx=None, end_char_idx=None, text_template='{metadata_str}\\n\\n{content}', metadata_template='{key}: {value}', metadata_seperator='\\n'),\n",
       " Document(id_='9e68a244-59b9-47de-a76a-b4f94be6bd88', embedding=None, metadata={'page_label': '14', 'file_name': 'ai.pdf', 'file_path': 'c:\\\\Users\\\\user\\\\PycharmProjects\\\\RAG_Query_OpenAI\\\\input\\\\ai.pdf', 'file_type': 'application/pdf', 'file_size': 2623149, 'creation_date': '2024-06-04', 'last_modified_date': '2024-06-04'}, excluded_embed_metadata_keys=['file_name', 'file_type', 'file_size', 'creation_date', 'last_modified_date', 'last_accessed_date'], excluded_llm_metadata_keys=['file_name', 'file_type', 'file_size', 'creation_date', 'last_modified_date', 'last_accessed_date'], relationships={}, text='14\\nThe potential benefits from self -learning computer chips are \\nlimitless as these types of devices can learn to perform the most \\ncomplex thinking tasks, such as interpreting critical cardiac \\nrhythms, detecting anomalies to prevent cyber -hacking and \\ncomposing music.\\nThis is a new one made by the Intel company and many other \\ncompanies are making special AI chips too.', start_char_idx=None, end_char_idx=None, text_template='{metadata_str}\\n\\n{content}', metadata_template='{key}: {value}', metadata_seperator='\\n'),\n",
       " Document(id_='ede01e27-8889-4133-8991-4ec9349309bf', embedding=None, metadata={'page_label': '15', 'file_name': 'ai.pdf', 'file_path': 'c:\\\\Users\\\\user\\\\PycharmProjects\\\\RAG_Query_OpenAI\\\\input\\\\ai.pdf', 'file_type': 'application/pdf', 'file_size': 2623149, 'creation_date': '2024-06-04', 'last_modified_date': '2024-06-04'}, excluded_embed_metadata_keys=['file_name', 'file_type', 'file_size', 'creation_date', 'last_modified_date', 'last_accessed_date'], excluded_llm_metadata_keys=['file_name', 'file_type', 'file_size', 'creation_date', 'last_modified_date', 'last_accessed_date'], relationships={}, text='AUTOMATONS –ARE THESE DEVICES \\nINTELLIGENT ?\\nhttps://www.youtube.com/watch?v=C7oSFNKIlaM (2.22 min)\\n15', start_char_idx=None, end_char_idx=None, text_template='{metadata_str}\\n\\n{content}', metadata_template='{key}: {value}', metadata_seperator='\\n'),\n",
       " Document(id_='d0924e9a-e1ef-41b2-a43c-28f8832ec84b', embedding=None, metadata={'page_label': '16', 'file_name': 'ai.pdf', 'file_path': 'c:\\\\Users\\\\user\\\\PycharmProjects\\\\RAG_Query_OpenAI\\\\input\\\\ai.pdf', 'file_type': 'application/pdf', 'file_size': 2623149, 'creation_date': '2024-06-04', 'last_modified_date': '2024-06-04'}, excluded_embed_metadata_keys=['file_name', 'file_type', 'file_size', 'creation_date', 'last_modified_date', 'last_accessed_date'], excluded_llm_metadata_keys=['file_name', 'file_type', 'file_size', 'creation_date', 'last_modified_date', 'last_accessed_date'], relationships={}, text='16Artificial Intelligence (AI) has entered our daily lives like never before \\nand we are yet to unravel the many other ways in which it could flourish. \\nAll of the tech giants such as Microsoft, Uber, Google, Facebook, Apple, \\nAmazon, Oracle, Intel, IBMor Twitter are competing in the race to lead \\nthe market and acquire the most innovative and promising AI \\nbusinesses.\\n', start_char_idx=None, end_char_idx=None, text_template='{metadata_str}\\n\\n{content}', metadata_template='{key}: {value}', metadata_seperator='\\n'),\n",
       " Document(id_='471393dd-a7e7-4643-acb4-c61c8e06e48b', embedding=None, metadata={'page_label': '17', 'file_name': 'ai.pdf', 'file_path': 'c:\\\\Users\\\\user\\\\PycharmProjects\\\\RAG_Query_OpenAI\\\\input\\\\ai.pdf', 'file_type': 'application/pdf', 'file_size': 2623149, 'creation_date': '2024-06-04', 'last_modified_date': '2024-06-04'}, excluded_embed_metadata_keys=['file_name', 'file_type', 'file_size', 'creation_date', 'last_modified_date', 'last_accessed_date'], excluded_llm_metadata_keys=['file_name', 'file_type', 'file_size', 'creation_date', 'last_modified_date', 'last_accessed_date'], relationships={}, text='17\\n', start_char_idx=None, end_char_idx=None, text_template='{metadata_str}\\n\\n{content}', metadata_template='{key}: {value}', metadata_seperator='\\n'),\n",
       " Document(id_='ac544338-2d2a-4e2f-9b7d-25a5fd234ae0', embedding=None, metadata={'page_label': '18', 'file_name': 'ai.pdf', 'file_path': 'c:\\\\Users\\\\user\\\\PycharmProjects\\\\RAG_Query_OpenAI\\\\input\\\\ai.pdf', 'file_type': 'application/pdf', 'file_size': 2623149, 'creation_date': '2024-06-04', 'last_modified_date': '2024-06-04'}, excluded_embed_metadata_keys=['file_name', 'file_type', 'file_size', 'creation_date', 'last_modified_date', 'last_accessed_date'], excluded_llm_metadata_keys=['file_name', 'file_type', 'file_size', 'creation_date', 'last_modified_date', 'last_accessed_date'], relationships={}, text='18\\n', start_char_idx=None, end_char_idx=None, text_template='{metadata_str}\\n\\n{content}', metadata_template='{key}: {value}', metadata_seperator='\\n'),\n",
       " Document(id_='c2aacfcd-cdc9-4e74-aa02-1d15bff5bf96', embedding=None, metadata={'page_label': '19', 'file_name': 'ai.pdf', 'file_path': 'c:\\\\Users\\\\user\\\\PycharmProjects\\\\RAG_Query_OpenAI\\\\input\\\\ai.pdf', 'file_type': 'application/pdf', 'file_size': 2623149, 'creation_date': '2024-06-04', 'last_modified_date': '2024-06-04'}, excluded_embed_metadata_keys=['file_name', 'file_type', 'file_size', 'creation_date', 'last_modified_date', 'last_accessed_date'], excluded_llm_metadata_keys=['file_name', 'file_type', 'file_size', 'creation_date', 'last_modified_date', 'last_accessed_date'], relationships={}, text='19\\n', start_char_idx=None, end_char_idx=None, text_template='{metadata_str}\\n\\n{content}', metadata_template='{key}: {value}', metadata_seperator='\\n'),\n",
       " Document(id_='9622b99b-5286-4e4b-a809-2eeded7c409a', embedding=None, metadata={'page_label': '20', 'file_name': 'ai.pdf', 'file_path': 'c:\\\\Users\\\\user\\\\PycharmProjects\\\\RAG_Query_OpenAI\\\\input\\\\ai.pdf', 'file_type': 'application/pdf', 'file_size': 2623149, 'creation_date': '2024-06-04', 'last_modified_date': '2024-06-04'}, excluded_embed_metadata_keys=['file_name', 'file_type', 'file_size', 'creation_date', 'last_modified_date', 'last_accessed_date'], excluded_llm_metadata_keys=['file_name', 'file_type', 'file_size', 'creation_date', 'last_modified_date', 'last_accessed_date'], relationships={}, text='20https://www.youtube.com/watch?v=GoXp1leA5QcGoogle announced their Duplex system, a new technology for \\nconducting natural conversations to carry out “real world” tasks over \\nthe phone. \\nThe technology is directed towards completing specific tasks, such \\nas scheduling certain types of appointments. \\nFor such tasks, the system makes the conversational experience as \\nnatural as possible, allowing people to speak normally, like they \\nwould to another person, without having to adapt to a machine.\\n', start_char_idx=None, end_char_idx=None, text_template='{metadata_str}\\n\\n{content}', metadata_template='{key}: {value}', metadata_seperator='\\n'),\n",
       " Document(id_='4ad71dc2-60d9-40b4-8604-0464ffad5cae', embedding=None, metadata={'page_label': '21', 'file_name': 'ai.pdf', 'file_path': 'c:\\\\Users\\\\user\\\\PycharmProjects\\\\RAG_Query_OpenAI\\\\input\\\\ai.pdf', 'file_type': 'application/pdf', 'file_size': 2623149, 'creation_date': '2024-06-04', 'last_modified_date': '2024-06-04'}, excluded_embed_metadata_keys=['file_name', 'file_type', 'file_size', 'creation_date', 'last_modified_date', 'last_accessed_date'], excluded_llm_metadata_keys=['file_name', 'file_type', 'file_size', 'creation_date', 'last_modified_date', 'last_accessed_date'], relationships={}, text='21\\n', start_char_idx=None, end_char_idx=None, text_template='{metadata_str}\\n\\n{content}', metadata_template='{key}: {value}', metadata_seperator='\\n'),\n",
       " Document(id_='66d5acf2-b9f5-4ff0-9cbd-6205f63bd4bf', embedding=None, metadata={'page_label': '22', 'file_name': 'ai.pdf', 'file_path': 'c:\\\\Users\\\\user\\\\PycharmProjects\\\\RAG_Query_OpenAI\\\\input\\\\ai.pdf', 'file_type': 'application/pdf', 'file_size': 2623149, 'creation_date': '2024-06-04', 'last_modified_date': '2024-06-04'}, excluded_embed_metadata_keys=['file_name', 'file_type', 'file_size', 'creation_date', 'last_modified_date', 'last_accessed_date'], excluded_llm_metadata_keys=['file_name', 'file_type', 'file_size', 'creation_date', 'last_modified_date', 'last_accessed_date'], relationships={}, text='22\\nhttps://www.youtube.com/watch?v=gsUV0mGEGaY', start_char_idx=None, end_char_idx=None, text_template='{metadata_str}\\n\\n{content}', metadata_template='{key}: {value}', metadata_seperator='\\n'),\n",
       " Document(id_='82969a44-9c1d-4fb5-b1bd-a97837809618', embedding=None, metadata={'page_label': '23', 'file_name': 'ai.pdf', 'file_path': 'c:\\\\Users\\\\user\\\\PycharmProjects\\\\RAG_Query_OpenAI\\\\input\\\\ai.pdf', 'file_type': 'application/pdf', 'file_size': 2623149, 'creation_date': '2024-06-04', 'last_modified_date': '2024-06-04'}, excluded_embed_metadata_keys=['file_name', 'file_type', 'file_size', 'creation_date', 'last_modified_date', 'last_accessed_date'], excluded_llm_metadata_keys=['file_name', 'file_type', 'file_size', 'creation_date', 'last_modified_date', 'last_accessed_date'], relationships={}, text='23\\n', start_char_idx=None, end_char_idx=None, text_template='{metadata_str}\\n\\n{content}', metadata_template='{key}: {value}', metadata_seperator='\\n'),\n",
       " Document(id_='464e6f2f-057f-481c-a678-0af842f714ce', embedding=None, metadata={'page_label': '24', 'file_name': 'ai.pdf', 'file_path': 'c:\\\\Users\\\\user\\\\PycharmProjects\\\\RAG_Query_OpenAI\\\\input\\\\ai.pdf', 'file_type': 'application/pdf', 'file_size': 2623149, 'creation_date': '2024-06-04', 'last_modified_date': '2024-06-04'}, excluded_embed_metadata_keys=['file_name', 'file_type', 'file_size', 'creation_date', 'last_modified_date', 'last_accessed_date'], excluded_llm_metadata_keys=['file_name', 'file_type', 'file_size', 'creation_date', 'last_modified_date', 'last_accessed_date'], relationships={}, text='24\\n', start_char_idx=None, end_char_idx=None, text_template='{metadata_str}\\n\\n{content}', metadata_template='{key}: {value}', metadata_seperator='\\n'),\n",
       " Document(id_='3fdedb6a-197d-42fc-9acd-d9dafaf11123', embedding=None, metadata={'page_label': '25', 'file_name': 'ai.pdf', 'file_path': 'c:\\\\Users\\\\user\\\\PycharmProjects\\\\RAG_Query_OpenAI\\\\input\\\\ai.pdf', 'file_type': 'application/pdf', 'file_size': 2623149, 'creation_date': '2024-06-04', 'last_modified_date': '2024-06-04'}, excluded_embed_metadata_keys=['file_name', 'file_type', 'file_size', 'creation_date', 'last_modified_date', 'last_accessed_date'], excluded_llm_metadata_keys=['file_name', 'file_type', 'file_size', 'creation_date', 'last_modified_date', 'last_accessed_date'], relationships={}, text='25The answer is all of the above. \\nEach of these highly realistic images were created by generative \\nadversarial networks, or GANs.\\nGAN, a concept introduced by Google researcher Ian Goodfellow in \\n2014, taps into the idea of “AI versus AI.” \\nThere are two neural networks: the generator, which comes up \\nwith a fake image (say a dog for instance), and a discriminator, \\nwhich compares the result to real -world images and gives feedback \\nto the generator on how close it is to replicating a realistic image.', start_char_idx=None, end_char_idx=None, text_template='{metadata_str}\\n\\n{content}', metadata_template='{key}: {value}', metadata_seperator='\\n'),\n",
       " Document(id_='907bd31f-e8fe-4506-84bc-1e7667a377e5', embedding=None, metadata={'page_label': '26', 'file_name': 'ai.pdf', 'file_path': 'c:\\\\Users\\\\user\\\\PycharmProjects\\\\RAG_Query_OpenAI\\\\input\\\\ai.pdf', 'file_type': 'application/pdf', 'file_size': 2623149, 'creation_date': '2024-06-04', 'last_modified_date': '2024-06-04'}, excluded_embed_metadata_keys=['file_name', 'file_type', 'file_size', 'creation_date', 'last_modified_date', 'last_accessed_date'], excluded_llm_metadata_keys=['file_name', 'file_type', 'file_size', 'creation_date', 'last_modified_date', 'last_accessed_date'], relationships={}, text='26\\n', start_char_idx=None, end_char_idx=None, text_template='{metadata_str}\\n\\n{content}', metadata_template='{key}: {value}', metadata_seperator='\\n'),\n",
       " Document(id_='fb974b22-b4b4-4851-8116-98f3af13c76f', embedding=None, metadata={'page_label': '27', 'file_name': 'ai.pdf', 'file_path': 'c:\\\\Users\\\\user\\\\PycharmProjects\\\\RAG_Query_OpenAI\\\\input\\\\ai.pdf', 'file_type': 'application/pdf', 'file_size': 2623149, 'creation_date': '2024-06-04', 'last_modified_date': '2024-06-04'}, excluded_embed_metadata_keys=['file_name', 'file_type', 'file_size', 'creation_date', 'last_modified_date', 'last_accessed_date'], excluded_llm_metadata_keys=['file_name', 'file_type', 'file_size', 'creation_date', 'last_modified_date', 'last_accessed_date'], relationships={}, text='27\\n', start_char_idx=None, end_char_idx=None, text_template='{metadata_str}\\n\\n{content}', metadata_template='{key}: {value}', metadata_seperator='\\n'),\n",
       " Document(id_='ba642cc9-a269-4a6f-8f79-0b921770339c', embedding=None, metadata={'page_label': '28', 'file_name': 'ai.pdf', 'file_path': 'c:\\\\Users\\\\user\\\\PycharmProjects\\\\RAG_Query_OpenAI\\\\input\\\\ai.pdf', 'file_type': 'application/pdf', 'file_size': 2623149, 'creation_date': '2024-06-04', 'last_modified_date': '2024-06-04'}, excluded_embed_metadata_keys=['file_name', 'file_type', 'file_size', 'creation_date', 'last_modified_date', 'last_accessed_date'], excluded_llm_metadata_keys=['file_name', 'file_type', 'file_size', 'creation_date', 'last_modified_date', 'last_accessed_date'], relationships={}, text='28\\n', start_char_idx=None, end_char_idx=None, text_template='{metadata_str}\\n\\n{content}', metadata_template='{key}: {value}', metadata_seperator='\\n'),\n",
       " Document(id_='c97d3380-5858-40e7-9024-5a3a2e7d03ee', embedding=None, metadata={'page_label': '29', 'file_name': 'ai.pdf', 'file_path': 'c:\\\\Users\\\\user\\\\PycharmProjects\\\\RAG_Query_OpenAI\\\\input\\\\ai.pdf', 'file_type': 'application/pdf', 'file_size': 2623149, 'creation_date': '2024-06-04', 'last_modified_date': '2024-06-04'}, excluded_embed_metadata_keys=['file_name', 'file_type', 'file_size', 'creation_date', 'last_modified_date', 'last_accessed_date'], excluded_llm_metadata_keys=['file_name', 'file_type', 'file_size', 'creation_date', 'last_modified_date', 'last_accessed_date'], relationships={}, text='29The Turing Test\\nTuring test\\nA test to determine whether a computer has achieved intelligence\\nAlan Turing\\nAn English mathematician who wrote a landmark paper in 1950 that \\nasked the question: Can machines think?\\nHe proposed a test to answer the question \"How will we know when \\nwe have succeeded?“\\nHe said that a machine passes the test when it successfully generates \\nresponses appropriate enough to convince the evaluator that it is \\nhuman.', start_char_idx=None, end_char_idx=None, text_template='{metadata_str}\\n\\n{content}', metadata_template='{key}: {value}', metadata_seperator='\\n'),\n",
       " Document(id_='bb60dd89-85fa-4282-b2b5-c95c61b23fac', embedding=None, metadata={'page_label': '30', 'file_name': 'ai.pdf', 'file_path': 'c:\\\\Users\\\\user\\\\PycharmProjects\\\\RAG_Query_OpenAI\\\\input\\\\ai.pdf', 'file_type': 'application/pdf', 'file_size': 2623149, 'creation_date': '2024-06-04', 'last_modified_date': '2024-06-04'}, excluded_embed_metadata_keys=['file_name', 'file_type', 'file_size', 'creation_date', 'last_modified_date', 'last_accessed_date'], excluded_llm_metadata_keys=['file_name', 'file_type', 'file_size', 'creation_date', 'last_modified_date', 'last_accessed_date'], relationships={}, text='30\\nIn the Turing test, the interrogator must determine which \\nrespondent is the computer and which is the human.', start_char_idx=None, end_char_idx=None, text_template='{metadata_str}\\n\\n{content}', metadata_template='{key}: {value}', metadata_seperator='\\n'),\n",
       " Document(id_='d79795e7-c1f0-45e7-b775-1789821b7ecd', embedding=None, metadata={'page_label': '31', 'file_name': 'ai.pdf', 'file_path': 'c:\\\\Users\\\\user\\\\PycharmProjects\\\\RAG_Query_OpenAI\\\\input\\\\ai.pdf', 'file_type': 'application/pdf', 'file_size': 2623149, 'creation_date': '2024-06-04', 'last_modified_date': '2024-06-04'}, excluded_embed_metadata_keys=['file_name', 'file_type', 'file_size', 'creation_date', 'last_modified_date', 'last_accessed_date'], excluded_llm_metadata_keys=['file_name', 'file_type', 'file_size', 'creation_date', 'last_modified_date', 'last_accessed_date'], relationships={}, text='31THE LOEBNER PRIZE FOR COMPLETING THE TURING TEST\\nTheLoebner Prize is an annual competition in artificial \\nintelligence that awards prizes to the computer \\nprograms considered by the judges to be the most human -\\nlike, using the Turing Test computer and person arrangement.\\nThe contest was launched in 1990 by Hugh Loebner and there \\nare bronze, silver, and gold coin prizes, plus money .\\n•So far, there have only been winners of the bronze medal and a \\n$4,000 award. ', start_char_idx=None, end_char_idx=None, text_template='{metadata_str}\\n\\n{content}', metadata_template='{key}: {value}', metadata_seperator='\\n'),\n",
       " Document(id_='4e8909a5-e3aa-45bd-823e-b57598aca8df', embedding=None, metadata={'page_label': '32', 'file_name': 'ai.pdf', 'file_path': 'c:\\\\Users\\\\user\\\\PycharmProjects\\\\RAG_Query_OpenAI\\\\input\\\\ai.pdf', 'file_type': 'application/pdf', 'file_size': 2623149, 'creation_date': '2024-06-04', 'last_modified_date': '2024-06-04'}, excluded_embed_metadata_keys=['file_name', 'file_type', 'file_size', 'creation_date', 'last_modified_date', 'last_accessed_date'], excluded_llm_metadata_keys=['file_name', 'file_type', 'file_size', 'creation_date', 'last_modified_date', 'last_accessed_date'], relationships={}, text='32\\nSilver –a one -time-only prize plus $25,000 offered for the first program \\nthat judges cannot distinguish from a real human.\\nGold plus $100,000 for the first program that judges cannot distinguish from \\na real human in a Turing test that includes deciphering and understanding \\ntext, visual, and auditory input. \\nOnce this is achieved, the annual competition will end. \\n.', start_char_idx=None, end_char_idx=None, text_template='{metadata_str}\\n\\n{content}', metadata_template='{key}: {value}', metadata_seperator='\\n'),\n",
       " Document(id_='5c5144f4-bb31-43ac-b1c9-363052492da5', embedding=None, metadata={'page_label': '33', 'file_name': 'ai.pdf', 'file_path': 'c:\\\\Users\\\\user\\\\PycharmProjects\\\\RAG_Query_OpenAI\\\\input\\\\ai.pdf', 'file_type': 'application/pdf', 'file_size': 2623149, 'creation_date': '2024-06-04', 'last_modified_date': '2024-06-04'}, excluded_embed_metadata_keys=['file_name', 'file_type', 'file_size', 'creation_date', 'last_modified_date', 'last_accessed_date'], excluded_llm_metadata_keys=['file_name', 'file_type', 'file_size', 'creation_date', 'last_modified_date', 'last_accessed_date'], relationships={}, text='33KNOWLEDGE REPRESENTATION\\n•We need to create a logical view of the data, based on how we want \\nto process it\\n•Natural language is very descriptive, but does not lend itself to \\nefficient processing.\\n____________________________________________________\\nWhat are the different ways that we can represent knowledge so it \\ncan be reviewed by an Artificial Intelligence computer program ?\\n1)Expert Learning Systems\\n2)Semantic Networks -A knowledge representation technique that \\nfocuses on the relationships and word descriptions of objects.   A graph \\nis used to represent a semantic network or net\\n3)Decision or Search tree\\n4)Neural networks –creating a computer version of the neurons of the \\nbrain and how they work', start_char_idx=None, end_char_idx=None, text_template='{metadata_str}\\n\\n{content}', metadata_template='{key}: {value}', metadata_seperator='\\n'),\n",
       " Document(id_='d4d94927-2a6d-46eb-9bae-f88f846a9145', embedding=None, metadata={'page_label': '34', 'file_name': 'ai.pdf', 'file_path': 'c:\\\\Users\\\\user\\\\PycharmProjects\\\\RAG_Query_OpenAI\\\\input\\\\ai.pdf', 'file_type': 'application/pdf', 'file_size': 2623149, 'creation_date': '2024-06-04', 'last_modified_date': '2024-06-04'}, excluded_embed_metadata_keys=['file_name', 'file_type', 'file_size', 'creation_date', 'last_modified_date', 'last_accessed_date'], excluded_llm_metadata_keys=['file_name', 'file_type', 'file_size', 'creation_date', 'last_modified_date', 'last_accessed_date'], relationships={}, text='12-341)  Expert Learning Systems\\n•Expert Learning Systems were commercially the first and most \\nsuccessful domain in Artificial Intelligence.\\n•Somewhat out of favor today\\n•These programs mimic the experts in whatever field is being \\nstudied.\\nAuto mechanic Telephone networking\\nCardiologist Delivery routing\\nOrganic compounds Professional auditor\\nMineral prospecting Manufacturing\\nInfectious diseases Pulmonary function\\nDiagnostic internal medicine Weather forecasting\\ncomputer configuration Battlefield tactician\\nEngineering structural analysis Space -station life support  \\nAudiologist Civil law', start_char_idx=None, end_char_idx=None, text_template='{metadata_str}\\n\\n{content}', metadata_template='{key}: {value}', metadata_seperator='\\n'),\n",
       " Document(id_='ee23e390-5a9e-49c0-b94b-271a07e83a5c', embedding=None, metadata={'page_label': '35', 'file_name': 'ai.pdf', 'file_path': 'c:\\\\Users\\\\user\\\\PycharmProjects\\\\RAG_Query_OpenAI\\\\input\\\\ai.pdf', 'file_type': 'application/pdf', 'file_size': 2623149, 'creation_date': '2024-06-04', 'last_modified_date': '2024-06-04'}, excluded_embed_metadata_keys=['file_name', 'file_type', 'file_size', 'creation_date', 'last_modified_date', 'last_accessed_date'], excluded_llm_metadata_keys=['file_name', 'file_type', 'file_size', 'creation_date', 'last_modified_date', 'last_accessed_date'], relationships={}, text='•Rule-based or Expert systems -Knowledge bases \\nconsisting of hundreds or thousands of rules of the \\nform:    \\n• IF (condition) THEN (action).\\n•Use rules to store knowledge (“rule -based”).\\n•The rules are usually gathered from experts in the field being \\nrepresented (“expert system”).\\n•Most widely used knowledge model in the commercial world.\\nIF (it is raining AND you must go outside)\\nTHEN (put on your raincoat)\\n•Rules can fire off a chain of other rules\\nIF (raincoat is on)\\nTHEN (you will not get wet)\\n', start_char_idx=None, end_char_idx=None, text_template='{metadata_str}\\n\\n{content}', metadata_template='{key}: {value}', metadata_seperator='\\n'),\n",
       " Document(id_='5782afc0-5138-4ba3-9e61-1097e161f73c', embedding=None, metadata={'page_label': '36', 'file_name': 'ai.pdf', 'file_path': 'c:\\\\Users\\\\user\\\\PycharmProjects\\\\RAG_Query_OpenAI\\\\input\\\\ai.pdf', 'file_type': 'application/pdf', 'file_size': 2623149, 'creation_date': '2024-06-04', 'last_modified_date': '2024-06-04'}, excluded_embed_metadata_keys=['file_name', 'file_type', 'file_size', 'creation_date', 'last_modified_date', 'last_accessed_date'], excluded_llm_metadata_keys=['file_name', 'file_type', 'file_size', 'creation_date', 'last_modified_date', 'last_accessed_date'], relationships={}, text='Expert Systems\\n36Gardener Expert System Example\\n', start_char_idx=None, end_char_idx=None, text_template='{metadata_str}\\n\\n{content}', metadata_template='{key}: {value}', metadata_seperator='\\n'),\n",
       " Document(id_='b2017864-30f7-49cc-b3e0-53df47658b81', embedding=None, metadata={'page_label': '37', 'file_name': 'ai.pdf', 'file_path': 'c:\\\\Users\\\\user\\\\PycharmProjects\\\\RAG_Query_OpenAI\\\\input\\\\ai.pdf', 'file_type': 'application/pdf', 'file_size': 2623149, 'creation_date': '2024-06-04', 'last_modified_date': '2024-06-04'}, excluded_embed_metadata_keys=['file_name', 'file_type', 'file_size', 'creation_date', 'last_modified_date', 'last_accessed_date'], excluded_llm_metadata_keys=['file_name', 'file_type', 'file_size', 'creation_date', 'last_modified_date', 'last_accessed_date'], relationships={}, text='Expert Systems\\nNamed abbreviations that represent conclusions:\\n•NONE—apply no treatment at this time\\n•TURF—apply a turf -building treatment\\n•WEED—apply a weed -killing treatment\\n•BUG—apply a bug -killing treatment\\n•FEED—apply a basic fertilizer treatment\\n•WEED & FEED —apply a weed -killing and fertilizer combination \\ntreatment37', start_char_idx=None, end_char_idx=None, text_template='{metadata_str}\\n\\n{content}', metadata_template='{key}: {value}', metadata_seperator='\\n'),\n",
       " Document(id_='a80707cc-1bc6-4cd3-a3ea-d99383061ba6', embedding=None, metadata={'page_label': '38', 'file_name': 'ai.pdf', 'file_path': 'c:\\\\Users\\\\user\\\\PycharmProjects\\\\RAG_Query_OpenAI\\\\input\\\\ai.pdf', 'file_type': 'application/pdf', 'file_size': 2623149, 'creation_date': '2024-06-04', 'last_modified_date': '2024-06-04'}, excluded_embed_metadata_keys=['file_name', 'file_type', 'file_size', 'creation_date', 'last_modified_date', 'last_accessed_date'], excluded_llm_metadata_keys=['file_name', 'file_type', 'file_size', 'creation_date', 'last_modified_date', 'last_accessed_date'], relationships={}, text='Expert Systems\\nVariables that are needed to represent the \\nstate of the lawn\\n•BARE —the lawn has large, bare areas\\n•SPARSE —the lawn is generally thin\\n•WEEDS —the lawn contains many weeds\\n•BUGS —the lawn shows evidence of bugs\\n38', start_char_idx=None, end_char_idx=None, text_template='{metadata_str}\\n\\n{content}', metadata_template='{key}: {value}', metadata_seperator='\\n'),\n",
       " Document(id_='d0690686-7cc9-4d30-8fb1-f97d2426b3e0', embedding=None, metadata={'page_label': '39', 'file_name': 'ai.pdf', 'file_path': 'c:\\\\Users\\\\user\\\\PycharmProjects\\\\RAG_Query_OpenAI\\\\input\\\\ai.pdf', 'file_type': 'application/pdf', 'file_size': 2623149, 'creation_date': '2024-06-04', 'last_modified_date': '2024-06-04'}, excluded_embed_metadata_keys=['file_name', 'file_type', 'file_size', 'creation_date', 'last_modified_date', 'last_accessed_date'], excluded_llm_metadata_keys=['file_name', 'file_type', 'file_size', 'creation_date', 'last_modified_date', 'last_accessed_date'], relationships={}, text='Expert Systems\\nData that is available:\\n•LAST—the date of the last lawn treatment\\n•CURRENT —current date\\n•SEASON —the current season\\nNow we can formulate some rules for our\\ngardening expert system \\nRules take the form of if-then statements\\n39', start_char_idx=None, end_char_idx=None, text_template='{metadata_str}\\n\\n{content}', metadata_template='{key}: {value}', metadata_seperator='\\n'),\n",
       " Document(id_='aef866b6-71db-4c3d-8efa-e2c6b5c1c374', embedding=None, metadata={'page_label': '40', 'file_name': 'ai.pdf', 'file_path': 'c:\\\\Users\\\\user\\\\PycharmProjects\\\\RAG_Query_OpenAI\\\\input\\\\ai.pdf', 'file_type': 'application/pdf', 'file_size': 2623149, 'creation_date': '2024-06-04', 'last_modified_date': '2024-06-04'}, excluded_embed_metadata_keys=['file_name', 'file_type', 'file_size', 'creation_date', 'last_modified_date', 'last_accessed_date'], excluded_llm_metadata_keys=['file_name', 'file_type', 'file_size', 'creation_date', 'last_modified_date', 'last_accessed_date'], relationships={}, text='Expert Systems\\nSome rules\\n•if (THECURRENT DAY –LAST DAY IS LESS THAN 30) then \\nNONE\\n•if (SEASON = winter) then not BUGS\\n•if (BARE ) then TURF\\n•if (SPARSE and not WEEDS ) then FEED\\n•if (BUGS and not SPARSE ) then BUG\\n•if (WEEDS and not SPARSE ) then WEED\\n•if (WEEDS and SPARSE ) then WEED & FEED\\n40', start_char_idx=None, end_char_idx=None, text_template='{metadata_str}\\n\\n{content}', metadata_template='{key}: {value}', metadata_seperator='\\n'),\n",
       " Document(id_='bd8063bd-9df6-4488-8045-349939c4260b', embedding=None, metadata={'page_label': '41', 'file_name': 'ai.pdf', 'file_path': 'c:\\\\Users\\\\user\\\\PycharmProjects\\\\RAG_Query_OpenAI\\\\input\\\\ai.pdf', 'file_type': 'application/pdf', 'file_size': 2623149, 'creation_date': '2024-06-04', 'last_modified_date': '2024-06-04'}, excluded_embed_metadata_keys=['file_name', 'file_type', 'file_size', 'creation_date', 'last_modified_date', 'last_accessed_date'], excluded_llm_metadata_keys=['file_name', 'file_type', 'file_size', 'creation_date', 'last_modified_date', 'last_accessed_date'], relationships={}, text='Expert Systems\\nAn execution of our inference engine\\n•System : Does the lawn have large, bare areas?\\n•User : No\\n•System : Does the lawn show evidence of bugs?\\n•User : No\\n•System : Is the lawn generally thin?\\n•User : Yes\\n•System : Does the lawn contain significant weeds?\\n•User : Yes\\n•System : You should apply a weed -killing and fertilizer  \\ncombination treatment.\\n41', start_char_idx=None, end_char_idx=None, text_template='{metadata_str}\\n\\n{content}', metadata_template='{key}: {value}', metadata_seperator='\\n'),\n",
       " Document(id_='8603112d-d336-4676-a507-6106c7f88286', embedding=None, metadata={'page_label': '42', 'file_name': 'ai.pdf', 'file_path': 'c:\\\\Users\\\\user\\\\PycharmProjects\\\\RAG_Query_OpenAI\\\\input\\\\ai.pdf', 'file_type': 'application/pdf', 'file_size': 2623149, 'creation_date': '2024-06-04', 'last_modified_date': '2024-06-04'}, excluded_embed_metadata_keys=['file_name', 'file_type', 'file_size', 'creation_date', 'last_modified_date', 'last_accessed_date'], excluded_llm_metadata_keys=['file_name', 'file_type', 'file_size', 'creation_date', 'last_modified_date', 'last_accessed_date'], relationships={}, text='422) Semantic (word description) Networks\\nSemantic network\\nA knowledge representation technique that focuses on the \\nrelationships between objects\\nA directed graph or word chart is used to represent a semantic \\nnetwork or net', start_char_idx=None, end_char_idx=None, text_template='{metadata_str}\\n\\n{content}', metadata_template='{key}: {value}', metadata_seperator='\\n'),\n",
       " Document(id_='f35af20f-1bb5-47f0-9637-7057596b3891', embedding=None, metadata={'page_label': '43', 'file_name': 'ai.pdf', 'file_path': 'c:\\\\Users\\\\user\\\\PycharmProjects\\\\RAG_Query_OpenAI\\\\input\\\\ai.pdf', 'file_type': 'application/pdf', 'file_size': 2623149, 'creation_date': '2024-06-04', 'last_modified_date': '2024-06-04'}, excluded_embed_metadata_keys=['file_name', 'file_type', 'file_size', 'creation_date', 'last_modified_date', 'last_accessed_date'], excluded_llm_metadata_keys=['file_name', 'file_type', 'file_size', 'creation_date', 'last_modified_date', 'last_accessed_date'], relationships={}, text='3) Search Trees\\nAI often revolves around the use of algorithms . \\nAn algorithm is a set of instructions that a mechanical computer can \\nexecute.\\nA complex algorithm is often built on top of another, simpler, one \\nand a common way to visualize it is with a tree design . \\n43', start_char_idx=None, end_char_idx=None, text_template='{metadata_str}\\n\\n{content}', metadata_template='{key}: {value}', metadata_seperator='\\n'),\n",
       " Document(id_='756efd18-0136-4ba4-8177-ef14f56d7d4f', embedding=None, metadata={'page_label': '44', 'file_name': 'ai.pdf', 'file_path': 'c:\\\\Users\\\\user\\\\PycharmProjects\\\\RAG_Query_OpenAI\\\\input\\\\ai.pdf', 'file_type': 'application/pdf', 'file_size': 2623149, 'creation_date': '2024-06-04', 'last_modified_date': '2024-06-04'}, excluded_embed_metadata_keys=['file_name', 'file_type', 'file_size', 'creation_date', 'last_modified_date', 'last_accessed_date'], excluded_llm_metadata_keys=['file_name', 'file_type', 'file_size', 'creation_date', 'last_modified_date', 'last_accessed_date'], relationships={}, text='A simple example of an algorithm is \\nthe following recommendations for \\noptimal play at tic-tac-toe:\\n\\uf0d8If someone has a \"threat\" (that is, \\ntwo in a row), take the remaining \\nsquare. Otherwise,\\n\\uf0d8If a move \"forks\" to create two \\nthreats at once, play that move. \\nOtherwise,\\n\\uf0d8Take the center square if it is free. \\nOtherwise,\\n\\uf0d8If your opponent has played in a \\ncorner, take the opposite corner. \\nOtherwise,\\n\\uf0d8Take an empty corner if one exists. \\nOtherwise, \\n\\uf0d8Take any empty square.\\n 44', start_char_idx=None, end_char_idx=None, text_template='{metadata_str}\\n\\n{content}', metadata_template='{key}: {value}', metadata_seperator='\\n'),\n",
       " Document(id_='54d24359-166f-4729-89e9-f6f21cb04eb0', embedding=None, metadata={'page_label': '45', 'file_name': 'ai.pdf', 'file_path': 'c:\\\\Users\\\\user\\\\PycharmProjects\\\\RAG_Query_OpenAI\\\\input\\\\ai.pdf', 'file_type': 'application/pdf', 'file_size': 2623149, 'creation_date': '2024-06-04', 'last_modified_date': '2024-06-04'}, excluded_embed_metadata_keys=['file_name', 'file_type', 'file_size', 'creation_date', 'last_modified_date', 'last_accessed_date'], excluded_llm_metadata_keys=['file_name', 'file_type', 'file_size', 'creation_date', 'last_modified_date', 'last_accessed_date'], relationships={}, text='45\\nAn example is a Search tree for playing the game Tic -Tac-Toe, as shown \\nbelow. \\nThis image depicts many of the possible paths that the game can take from \\nthe having the first 2 rows filled,\\nas shown:', start_char_idx=None, end_char_idx=None, text_template='{metadata_str}\\n\\n{content}', metadata_template='{key}: {value}', metadata_seperator='\\n'),\n",
       " Document(id_='b8df1eec-873f-428d-80f7-f56e11745475', embedding=None, metadata={'page_label': '46', 'file_name': 'ai.pdf', 'file_path': 'c:\\\\Users\\\\user\\\\PycharmProjects\\\\RAG_Query_OpenAI\\\\input\\\\ai.pdf', 'file_type': 'application/pdf', 'file_size': 2623149, 'creation_date': '2024-06-04', 'last_modified_date': '2024-06-04'}, excluded_embed_metadata_keys=['file_name', 'file_type', 'file_size', 'creation_date', 'last_modified_date', 'last_accessed_date'], excluded_llm_metadata_keys=['file_name', 'file_type', 'file_size', 'creation_date', 'last_modified_date', 'last_accessed_date'], relationships={}, text='THE HUMAN BRAIN AND NEURONS IN IT\\nA REVIEW BEFORE THE DISCUSSION ABOUT  \\n4) NEURAL NETS\\n46', start_char_idx=None, end_char_idx=None, text_template='{metadata_str}\\n\\n{content}', metadata_template='{key}: {value}', metadata_seperator='\\n'),\n",
       " Document(id_='5070ddd5-0951-43ec-bd90-24a4f2b1e159', embedding=None, metadata={'page_label': '47', 'file_name': 'ai.pdf', 'file_path': 'c:\\\\Users\\\\user\\\\PycharmProjects\\\\RAG_Query_OpenAI\\\\input\\\\ai.pdf', 'file_type': 'application/pdf', 'file_size': 2623149, 'creation_date': '2024-06-04', 'last_modified_date': '2024-06-04'}, excluded_embed_metadata_keys=['file_name', 'file_type', 'file_size', 'creation_date', 'last_modified_date', 'last_accessed_date'], excluded_llm_metadata_keys=['file_name', 'file_type', 'file_size', 'creation_date', 'last_modified_date', 'last_accessed_date'], relationships={}, text='THE BRAIN IS DIVIDED INTO 4 \\nLOBES AND THE CEREBELLUM \\nWHICH IS LOCATED AT THE \\nBOTTOM, BACK AREA\\n47', start_char_idx=None, end_char_idx=None, text_template='{metadata_str}\\n\\n{content}', metadata_template='{key}: {value}', metadata_seperator='\\n'),\n",
       " Document(id_='bfa1b831-1f1d-41f1-8a22-b88ed98a33cb', embedding=None, metadata={'page_label': '48', 'file_name': 'ai.pdf', 'file_path': 'c:\\\\Users\\\\user\\\\PycharmProjects\\\\RAG_Query_OpenAI\\\\input\\\\ai.pdf', 'file_type': 'application/pdf', 'file_size': 2623149, 'creation_date': '2024-06-04', 'last_modified_date': '2024-06-04'}, excluded_embed_metadata_keys=['file_name', 'file_type', 'file_size', 'creation_date', 'last_modified_date', 'last_accessed_date'], excluded_llm_metadata_keys=['file_name', 'file_type', 'file_size', 'creation_date', 'last_modified_date', 'last_accessed_date'], relationships={}, text='48AI technology called machine learning today, is great at helping for \\ntaking good photos, translating languages, recognizing your friends \\nonFacebook, delivering search results, screening out spam and many \\nother chores. \\nIt usually uses an approach called neural networks that works \\nsomething like a human brain, not a sequence of IF THIS, THEN steps \\nas in traditional computing.\\n', start_char_idx=None, end_char_idx=None, text_template='{metadata_str}\\n\\n{content}', metadata_template='{key}: {value}', metadata_seperator='\\n'),\n",
       " Document(id_='3743bcd8-c3fc-4cb6-8704-c4e18088efa2', embedding=None, metadata={'page_label': '49', 'file_name': 'ai.pdf', 'file_path': 'c:\\\\Users\\\\user\\\\PycharmProjects\\\\RAG_Query_OpenAI\\\\input\\\\ai.pdf', 'file_type': 'application/pdf', 'file_size': 2623149, 'creation_date': '2024-06-04', 'last_modified_date': '2024-06-04'}, excluded_embed_metadata_keys=['file_name', 'file_type', 'file_size', 'creation_date', 'last_modified_date', 'last_accessed_date'], excluded_llm_metadata_keys=['file_name', 'file_type', 'file_size', 'creation_date', 'last_modified_date', 'last_accessed_date'], relationships={}, text='49TYPES AND FUNCTION OF NEURONS\\nNeurons are essential for every action that our body and brain carry out. \\nIt is the complexity of neuronal networks that gives us our personalities and \\nour consciousness. \\nThey make up around 10 percent of the brain; the rest consists of glial cells \\nand other cells that support and nourish the neurons.\\n', start_char_idx=None, end_char_idx=None, text_template='{metadata_str}\\n\\n{content}', metadata_template='{key}: {value}', metadata_seperator='\\n'),\n",
       " Document(id_='ded2e526-0d96-4386-9a15-18cf8767ccaf', embedding=None, metadata={'page_label': '50', 'file_name': 'ai.pdf', 'file_path': 'c:\\\\Users\\\\user\\\\PycharmProjects\\\\RAG_Query_OpenAI\\\\input\\\\ai.pdf', 'file_type': 'application/pdf', 'file_size': 2623149, 'creation_date': '2024-06-04', 'last_modified_date': '2024-06-04'}, excluded_embed_metadata_keys=['file_name', 'file_type', 'file_size', 'creation_date', 'last_modified_date', 'last_accessed_date'], excluded_llm_metadata_keys=['file_name', 'file_type', 'file_size', 'creation_date', 'last_modified_date', 'last_accessed_date'], relationships={}, text='50There are around 86 billion neurons in the brain.  To reach this huge \\ntarget, a developing fetus must create around 250,000 neurons per \\nminute !\\nEach neuron is connected to at least 10,000 others –giving well over \\n1,000 trillion connections (1 quadrillion connections) .\\nThey all connect at a junction called a synapse, which can be electrical or a \\nhigher percentage of them are chemical. ', start_char_idx=None, end_char_idx=None, text_template='{metadata_str}\\n\\n{content}', metadata_template='{key}: {value}', metadata_seperator='\\n'),\n",
       " Document(id_='625526ac-1b15-4f9b-b1b1-c9ebc7cf2545', embedding=None, metadata={'page_label': '51', 'file_name': 'ai.pdf', 'file_path': 'c:\\\\Users\\\\user\\\\PycharmProjects\\\\RAG_Query_OpenAI\\\\input\\\\ai.pdf', 'file_type': 'application/pdf', 'file_size': 2623149, 'creation_date': '2024-06-04', 'last_modified_date': '2024-06-04'}, excluded_embed_metadata_keys=['file_name', 'file_type', 'file_size', 'creation_date', 'last_modified_date', 'last_accessed_date'], excluded_llm_metadata_keys=['file_name', 'file_type', 'file_size', 'creation_date', 'last_modified_date', 'last_accessed_date'], relationships={}, text='51Incoming signals to the neuron can be either excitatory –which means they \\ntend to make the neuron fire(generate an electrical impulse) –orinhibitory –\\nwhich means that they tend to keep the neuron from firing.\\nA single neuron may have more than one set of dendrites, and may receive many \\nthousands of input signals. \\nWhether or not a neuron is excited into firing an impulse depends on the sum of \\nall of the excitatory and inhibitory signals it receives.\\nIf the neuron does end up firing, the nerve impulse is conducted down the axon.\\n', start_char_idx=None, end_char_idx=None, text_template='{metadata_str}\\n\\n{content}', metadata_template='{key}: {value}', metadata_seperator='\\n'),\n",
       " Document(id_='6409df54-9447-4bd3-af10-55c4333e87a7', embedding=None, metadata={'page_label': '52', 'file_name': 'ai.pdf', 'file_path': 'c:\\\\Users\\\\user\\\\PycharmProjects\\\\RAG_Query_OpenAI\\\\input\\\\ai.pdf', 'file_type': 'application/pdf', 'file_size': 2623149, 'creation_date': '2024-06-04', 'last_modified_date': '2024-06-04'}, excluded_embed_metadata_keys=['file_name', 'file_type', 'file_size', 'creation_date', 'last_modified_date', 'last_accessed_date'], excluded_llm_metadata_keys=['file_name', 'file_type', 'file_size', 'creation_date', 'last_modified_date', 'last_accessed_date'], relationships={}, text='52How synapses work -Neurons are connected to each other at a location \\ncalled a Synapse, so that they can communicate messages\\nAmazingly, where each cell connects with the other one, NONE of \\nthese cells ever touch each other !!\\nThe signal that is carried from the first nerve fiber to the next one is \\ntransmitted by an electrical signal or a chemical one, up to a speed \\nof 268 miles per hour !\\nThere is new evidence that both types closely interact with each other and \\nthat the transmission of a nerve signal is both chemical andelectrical, \\nwhich is actually required for normal brain development and function.\\nhttps://www.youtu\\nbe.com/watch?v=m\\nItV4rC57kM&t=10s', start_char_idx=None, end_char_idx=None, text_template='{metadata_str}\\n\\n{content}', metadata_template='{key}: {value}', metadata_seperator='\\n'),\n",
       " Document(id_='f08b483b-be0c-4f86-bbf6-d566a4e4dc32', embedding=None, metadata={'page_label': '53', 'file_name': 'ai.pdf', 'file_path': 'c:\\\\Users\\\\user\\\\PycharmProjects\\\\RAG_Query_OpenAI\\\\input\\\\ai.pdf', 'file_type': 'application/pdf', 'file_size': 2623149, 'creation_date': '2024-06-04', 'last_modified_date': '2024-06-04'}, excluded_embed_metadata_keys=['file_name', 'file_type', 'file_size', 'creation_date', 'last_modified_date', 'last_accessed_date'], excluded_llm_metadata_keys=['file_name', 'file_type', 'file_size', 'creation_date', 'last_modified_date', 'last_accessed_date'], relationships={}, text='53\\nIf you don’t use a foreign language you learned years ago or \\nmathematics, the neurons used for those things will move the \\nsynapses away from each other so they can do other things that \\nyou are learning to do.   This is called Synaptic Pruning.', start_char_idx=None, end_char_idx=None, text_template='{metadata_str}\\n\\n{content}', metadata_template='{key}: {value}', metadata_seperator='\\n'),\n",
       " Document(id_='8471ac47-243e-409e-8e48-e8adbf4780b0', embedding=None, metadata={'page_label': '54', 'file_name': 'ai.pdf', 'file_path': 'c:\\\\Users\\\\user\\\\PycharmProjects\\\\RAG_Query_OpenAI\\\\input\\\\ai.pdf', 'file_type': 'application/pdf', 'file_size': 2623149, 'creation_date': '2024-06-04', 'last_modified_date': '2024-06-04'}, excluded_embed_metadata_keys=['file_name', 'file_type', 'file_size', 'creation_date', 'last_modified_date', 'last_accessed_date'], excluded_llm_metadata_keys=['file_name', 'file_type', 'file_size', 'creation_date', 'last_modified_date', 'last_accessed_date'], relationships={}, text='544) Artificial Neural Network (ANN)\\nA computer representation of knowledge that attempts to \\nmimic the neural networks of the human brain\\nYes, but what is a human neural network?\\nNeural networks, or neural nets, were inspired by the \\narchitecture of neurons in the human brain. \\nA simple \"neuron\" Naccepts input from multiple other \\nneurons, each of which, when activated (or \"fired\"), cast a \\nweighted \"vote\" for or against whether neuron Nshould itself \\nactivate.', start_char_idx=None, end_char_idx=None, text_template='{metadata_str}\\n\\n{content}', metadata_template='{key}: {value}', metadata_seperator='\\n'),\n",
       " Document(id_='43917b76-20c5-44d0-846e-83e9b37d47a3', embedding=None, metadata={'page_label': '55', 'file_name': 'ai.pdf', 'file_path': 'c:\\\\Users\\\\user\\\\PycharmProjects\\\\RAG_Query_OpenAI\\\\input\\\\ai.pdf', 'file_type': 'application/pdf', 'file_size': 2623149, 'creation_date': '2024-06-04', 'last_modified_date': '2024-06-04'}, excluded_embed_metadata_keys=['file_name', 'file_type', 'file_size', 'creation_date', 'last_modified_date', 'last_accessed_date'], excluded_llm_metadata_keys=['file_name', 'file_type', 'file_size', 'creation_date', 'last_modified_date', 'last_accessed_date'], relationships={}, text='55An ANN is based on a collection of connected units or nodes called artificial \\nneurons , which loosely model the neurons in a biological brain. \\nEach connection, like the synapses in a biological brain, can transmit a \\nsignal from one artificial neuron to another. An artificial neuron that receives \\na signal can process it and then signal additional artificial neurons \\nconnected to it.\\n', start_char_idx=None, end_char_idx=None, text_template='{metadata_str}\\n\\n{content}', metadata_template='{key}: {value}', metadata_seperator='\\n'),\n",
       " Document(id_='c14fe23c-9ae2-4ded-aa18-cf6fed423281', embedding=None, metadata={'page_label': '56', 'file_name': 'ai.pdf', 'file_path': 'c:\\\\Users\\\\user\\\\PycharmProjects\\\\RAG_Query_OpenAI\\\\input\\\\ai.pdf', 'file_type': 'application/pdf', 'file_size': 2623149, 'creation_date': '2024-06-04', 'last_modified_date': '2024-06-04'}, excluded_embed_metadata_keys=['file_name', 'file_type', 'file_size', 'creation_date', 'last_modified_date', 'last_accessed_date'], excluded_llm_metadata_keys=['file_name', 'file_type', 'file_size', 'creation_date', 'last_modified_date', 'last_accessed_date'], relationships={}, text='12-56ARTIFICIAL NEURAL NETWORK\\n•Artificial neurons : Commonly called processing elements, \\nare modeled after real neurons of humans and other animals.\\n•Has many inputs and one output.\\n•The inputs are signals that are strengthened or weakened \\n(weighted).\\n•If the sum of all the signals is strong enough, the neuron \\nwill put out a signal to the next neuron output of a 1.\\nOutputArtificial \\nNeuronInputs', start_char_idx=None, end_char_idx=None, text_template='{metadata_str}\\n\\n{content}', metadata_template='{key}: {value}', metadata_seperator='\\n'),\n",
       " Document(id_='f8f41786-1281-4bac-9a43-428d00890700', embedding=None, metadata={'page_label': '57', 'file_name': 'ai.pdf', 'file_path': 'c:\\\\Users\\\\user\\\\PycharmProjects\\\\RAG_Query_OpenAI\\\\input\\\\ai.pdf', 'file_type': 'application/pdf', 'file_size': 2623149, 'creation_date': '2024-06-04', 'last_modified_date': '2024-06-04'}, excluded_embed_metadata_keys=['file_name', 'file_type', 'file_size', 'creation_date', 'last_modified_date', 'last_accessed_date'], excluded_llm_metadata_keys=['file_name', 'file_type', 'file_size', 'creation_date', 'last_modified_date', 'last_accessed_date'], relationships={}, text='57Artificial Neural Networks\\nTraining\\nThe process of adjusting the weights and threshold values in a \\nneural net \\nHow does this all work?\\nTrain a neural net to recognize An eagle in a picture.\\nGiven one output value per pixel, train network to produce an \\noutput value of 1 for every pixel that contributes to the eagle and 0 \\nfor every one that doesn’t.\\n', start_char_idx=None, end_char_idx=None, text_template='{metadata_str}\\n\\n{content}', metadata_template='{key}: {value}', metadata_seperator='\\n'),\n",
       " Document(id_='5801612a-c0b6-4074-9b21-4f22648757f6', embedding=None, metadata={'page_label': '58', 'file_name': 'ai.pdf', 'file_path': 'c:\\\\Users\\\\user\\\\PycharmProjects\\\\RAG_Query_OpenAI\\\\input\\\\ai.pdf', 'file_type': 'application/pdf', 'file_size': 2623149, 'creation_date': '2024-06-04', 'last_modified_date': '2024-06-04'}, excluded_embed_metadata_keys=['file_name', 'file_type', 'file_size', 'creation_date', 'last_modified_date', 'last_accessed_date'], excluded_llm_metadata_keys=['file_name', 'file_type', 'file_size', 'creation_date', 'last_modified_date', 'last_accessed_date'], relationships={}, text=\"58DeepMind is a subsidiary of Google that focuses on the \\ndevelopment of artificial intelligence and deep reinforcement \\nmachine learning.  \\nThe deep reinforcement learning of its AIalgorithms has been \\nused in both research and applied contexts\\nDeepMind is built around the framework of neural networks and \\nuses a method called deep -reinforced -learning. \\nThis means that the A.I can learn from it's experiences and \\nbecome more efficient at whatever it does . \\nThe A.I is general -purpose meaning that it's NOT pre -programmed \\nfor a specific task from the go.\\nhttps://www.youtube.com/watch?v=gn4nRCC9TwQ\", start_char_idx=None, end_char_idx=None, text_template='{metadata_str}\\n\\n{content}', metadata_template='{key}: {value}', metadata_seperator='\\n'),\n",
       " Document(id_='90c6b5ce-8873-48aa-adcd-edd8d478c7d4', embedding=None, metadata={'page_label': '59', 'file_name': 'ai.pdf', 'file_path': 'c:\\\\Users\\\\user\\\\PycharmProjects\\\\RAG_Query_OpenAI\\\\input\\\\ai.pdf', 'file_type': 'application/pdf', 'file_size': 2623149, 'creation_date': '2024-06-04', 'last_modified_date': '2024-06-04'}, excluded_embed_metadata_keys=['file_name', 'file_type', 'file_size', 'creation_date', 'last_modified_date', 'last_accessed_date'], excluded_llm_metadata_keys=['file_name', 'file_type', 'file_size', 'creation_date', 'last_modified_date', 'last_accessed_date'], relationships={}, text='Agents\\n•An agent is anything that can be viewed as a device that \\ncan perceive its environment through sensors and act upon \\nthat environment through actuators.\\n•Human agent: eyes, ears, and other organs for sensors; hands, \\nlegs, mouth, and other body parts for actuators\\n•Robotic agent : cameras and infrared range finders for sensors\\n•Various motors for actuators\\n•Rational Agent: \\n•For each possible sequence, a rational agent should select an \\naction that is expected to maximize its performance measure, \\ngiven the evidence provided by the perception sequence and \\nwhatever built -in knowledge the agent has.\\n59', start_char_idx=None, end_char_idx=None, text_template='{metadata_str}\\n\\n{content}', metadata_template='{key}: {value}', metadata_seperator='\\n'),\n",
       " Document(id_='1f00dc94-dd48-4b5a-9438-96ced53a46b9', embedding=None, metadata={'page_label': '60', 'file_name': 'ai.pdf', 'file_path': 'c:\\\\Users\\\\user\\\\PycharmProjects\\\\RAG_Query_OpenAI\\\\input\\\\ai.pdf', 'file_type': 'application/pdf', 'file_size': 2623149, 'creation_date': '2024-06-04', 'last_modified_date': '2024-06-04'}, excluded_embed_metadata_keys=['file_name', 'file_type', 'file_size', 'creation_date', 'last_modified_date', 'last_accessed_date'], excluded_llm_metadata_keys=['file_name', 'file_type', 'file_size', 'creation_date', 'last_modified_date', 'last_accessed_date'], relationships={}, text='Why “meaning” is the central concept of AI\\n•For an agent to be “intelligent”, it must be able to understand the \\nmeaning of information.\\n•Information is acquired / delivered / conveyed in messages which \\nare phrased  in a selected representation language.\\n•There are two sides in information exchange: the source (text, \\nimage, person, program, etc.) and the receiver (person or an AI \\nagent). They must speak the same “language” for the information \\nto be exchanged in a meaningful way.\\n•The receiver must have the ability to interpret the information \\ncorrec tly according to the intended by the source meaning or semantics of \\nit. \\nMEANING = SEMANTICS60', start_char_idx=None, end_char_idx=None, text_template='{metadata_str}\\n\\n{content}', metadata_template='{key}: {value}', metadata_seperator='\\n'),\n",
       " Document(id_='c160b2e1-a855-46dc-af97-989fc5a4d7eb', embedding=None, metadata={'page_label': '61', 'file_name': 'ai.pdf', 'file_path': 'c:\\\\Users\\\\user\\\\PycharmProjects\\\\RAG_Query_OpenAI\\\\input\\\\ai.pdf', 'file_type': 'application/pdf', 'file_size': 2623149, 'creation_date': '2024-06-04', 'last_modified_date': '2024-06-04'}, excluded_embed_metadata_keys=['file_name', 'file_type', 'file_size', 'creation_date', 'last_modified_date', 'last_accessed_date'], excluded_llm_metadata_keys=['file_name', 'file_type', 'file_size', 'creation_date', 'last_modified_date', 'last_accessed_date'], relationships={}, text='61\\n', start_char_idx=None, end_char_idx=None, text_template='{metadata_str}\\n\\n{content}', metadata_template='{key}: {value}', metadata_seperator='\\n'),\n",
       " Document(id_='fa0bf1d4-6ad2-4d25-92fe-c3f85c8ea007', embedding=None, metadata={'page_label': '62', 'file_name': 'ai.pdf', 'file_path': 'c:\\\\Users\\\\user\\\\PycharmProjects\\\\RAG_Query_OpenAI\\\\input\\\\ai.pdf', 'file_type': 'application/pdf', 'file_size': 2623149, 'creation_date': '2024-06-04', 'last_modified_date': '2024-06-04'}, excluded_embed_metadata_keys=['file_name', 'file_type', 'file_size', 'creation_date', 'last_modified_date', 'last_accessed_date'], excluded_llm_metadata_keys=['file_name', 'file_type', 'file_size', 'creation_date', 'last_modified_date', 'last_accessed_date'], relationships={}, text='62Machine Learning\\nThe phrase ‘machine learning’ dates back to the middle of the last \\ncentury where Arthur Samuel in 1959 defined machine learning as \\n“the ability to learn without being explicitly programmed.”\\nMachine learning is a type of AI that helps a computer’s ability to \\nlearn and essentially teach itself to evolve as it becomes exposed \\nto new and ever -changing data. \\nFor example, Facebook’s news feed uses machine learning in an \\neffort to personalize each individual’s feed based on what they like.', start_char_idx=None, end_char_idx=None, text_template='{metadata_str}\\n\\n{content}', metadata_template='{key}: {value}', metadata_seperator='\\n'),\n",
       " Document(id_='102dcbf6-cd03-4722-bff2-7e6fae410e3c', embedding=None, metadata={'page_label': '63', 'file_name': 'ai.pdf', 'file_path': 'c:\\\\Users\\\\user\\\\PycharmProjects\\\\RAG_Query_OpenAI\\\\input\\\\ai.pdf', 'file_type': 'application/pdf', 'file_size': 2623149, 'creation_date': '2024-06-04', 'last_modified_date': '2024-06-04'}, excluded_embed_metadata_keys=['file_name', 'file_type', 'file_size', 'creation_date', 'last_modified_date', 'last_accessed_date'], excluded_llm_metadata_keys=['file_name', 'file_type', 'file_size', 'creation_date', 'last_modified_date', 'last_accessed_date'], relationships={}, text='63 https://www.youtube.com/watch?v=odHC -gxJhG4DRONE CHASSIS DESIGN USING \\nMACHINE LEARNING\\n', start_char_idx=None, end_char_idx=None, text_template='{metadata_str}\\n\\n{content}', metadata_template='{key}: {value}', metadata_seperator='\\n'),\n",
       " Document(id_='4df72435-08d0-4190-b75f-f9966a389c63', embedding=None, metadata={'page_label': '64', 'file_name': 'ai.pdf', 'file_path': 'c:\\\\Users\\\\user\\\\PycharmProjects\\\\RAG_Query_OpenAI\\\\input\\\\ai.pdf', 'file_type': 'application/pdf', 'file_size': 2623149, 'creation_date': '2024-06-04', 'last_modified_date': '2024-06-04'}, excluded_embed_metadata_keys=['file_name', 'file_type', 'file_size', 'creation_date', 'last_modified_date', 'last_accessed_date'], excluded_llm_metadata_keys=['file_name', 'file_type', 'file_size', 'creation_date', 'last_modified_date', 'last_accessed_date'], relationships={}, text='64Deep Learning\\nDeep Learning is a new area of machine learning research, which \\nhas been introduced with the objective of moving machine \\nlearning closer to artificial intelligence.\\nIt relates to study of ‘deep neural networks’ in the human brain \\nand, under this perspective, the deep learning tries to emulate \\nthe functions of inner layers of the human brain, creating \\nknowledge from multiple layers of information processing. \\nSince the deep learning technology is modelled after the human \\nbrain, each time new data is poured in, its capabilities get better.\\nDeep artificial neural networks are a set of algorithms \\nreaching new levels of accuracy for many important \\nproblems, such as image recognition, sound recognition, \\nrecommender systems, etc.', start_char_idx=None, end_char_idx=None, text_template='{metadata_str}\\n\\n{content}', metadata_template='{key}: {value}', metadata_seperator='\\n'),\n",
       " Document(id_='a89a8a39-346f-4fff-bcbb-c8e703fd89bc', embedding=None, metadata={'page_label': '65', 'file_name': 'ai.pdf', 'file_path': 'c:\\\\Users\\\\user\\\\PycharmProjects\\\\RAG_Query_OpenAI\\\\input\\\\ai.pdf', 'file_type': 'application/pdf', 'file_size': 2623149, 'creation_date': '2024-06-04', 'last_modified_date': '2024-06-04'}, excluded_embed_metadata_keys=['file_name', 'file_type', 'file_size', 'creation_date', 'last_modified_date', 'last_accessed_date'], excluded_llm_metadata_keys=['file_name', 'file_type', 'file_size', 'creation_date', 'last_modified_date', 'last_accessed_date'], relationships={}, text='65For example, a deep learning algorithm could be trained to ‘learn’ \\nhow a dog looks like. It would take an enormous dataset of images \\nfor it to understand the minor details that distinguish a dog from a \\nwolf or a fox.\\n', start_char_idx=None, end_char_idx=None, text_template='{metadata_str}\\n\\n{content}', metadata_template='{key}: {value}', metadata_seperator='\\n'),\n",
       " Document(id_='f9980d0a-dfe8-4d29-b7a9-b9c392df8b61', embedding=None, metadata={'page_label': '66', 'file_name': 'ai.pdf', 'file_path': 'c:\\\\Users\\\\user\\\\PycharmProjects\\\\RAG_Query_OpenAI\\\\input\\\\ai.pdf', 'file_type': 'application/pdf', 'file_size': 2623149, 'creation_date': '2024-06-04', 'last_modified_date': '2024-06-04'}, excluded_embed_metadata_keys=['file_name', 'file_type', 'file_size', 'creation_date', 'last_modified_date', 'last_accessed_date'], excluded_llm_metadata_keys=['file_name', 'file_type', 'file_size', 'creation_date', 'last_modified_date', 'last_accessed_date'], relationships={}, text='66\\n', start_char_idx=None, end_char_idx=None, text_template='{metadata_str}\\n\\n{content}', metadata_template='{key}: {value}', metadata_seperator='\\n'),\n",
       " Document(id_='628080e9-126a-4d63-9039-d4e44d9c9195', embedding=None, metadata={'page_label': '67', 'file_name': 'ai.pdf', 'file_path': 'c:\\\\Users\\\\user\\\\PycharmProjects\\\\RAG_Query_OpenAI\\\\input\\\\ai.pdf', 'file_type': 'application/pdf', 'file_size': 2623149, 'creation_date': '2024-06-04', 'last_modified_date': '2024-06-04'}, excluded_embed_metadata_keys=['file_name', 'file_type', 'file_size', 'creation_date', 'last_modified_date', 'last_accessed_date'], excluded_llm_metadata_keys=['file_name', 'file_type', 'file_size', 'creation_date', 'last_modified_date', 'last_accessed_date'], relationships={}, text='67CONCERNS ABOUT AI TAKING OVER THE WORLD\\nThe computer that wins at games of Chess or Go, is analyzing \\ndata for patterns. It has no idea it’s playing Go as opposed to \\ngolf, or what would happen if more than half of a Go board was \\npushed beyond the edge of a table. \\nWhen you ask Amazon’s Alexa to reserve you a table at a \\nrestaurant you name, its voice recognition system, made very \\naccurate by machine learning, saves you the time of entering a \\nrequest in Open Table’s reservation system. \\nBut Alexa doesn’t know what a restaurant is or what eating is. \\nIf you asked it to book you a table for two at 6 p.m. at the Mayo \\nClinic, it would try.', start_char_idx=None, end_char_idx=None, text_template='{metadata_str}\\n\\n{content}', metadata_template='{key}: {value}', metadata_seperator='\\n'),\n",
       " Document(id_='02991b1c-2986-4e6e-97c9-cb494f2252f8', embedding=None, metadata={'page_label': '68', 'file_name': 'ai.pdf', 'file_path': 'c:\\\\Users\\\\user\\\\PycharmProjects\\\\RAG_Query_OpenAI\\\\input\\\\ai.pdf', 'file_type': 'application/pdf', 'file_size': 2623149, 'creation_date': '2024-06-04', 'last_modified_date': '2024-06-04'}, excluded_embed_metadata_keys=['file_name', 'file_type', 'file_size', 'creation_date', 'last_modified_date', 'last_accessed_date'], excluded_llm_metadata_keys=['file_name', 'file_type', 'file_size', 'creation_date', 'last_modified_date', 'last_accessed_date'], relationships={}, text='68\\n', start_char_idx=None, end_char_idx=None, text_template='{metadata_str}\\n\\n{content}', metadata_template='{key}: {value}', metadata_seperator='\\n'),\n",
       " Document(id_='532ce38d-1630-4c6e-bb36-627f8dd3f911', embedding=None, metadata={'page_label': '69', 'file_name': 'ai.pdf', 'file_path': 'c:\\\\Users\\\\user\\\\PycharmProjects\\\\RAG_Query_OpenAI\\\\input\\\\ai.pdf', 'file_type': 'application/pdf', 'file_size': 2623149, 'creation_date': '2024-06-04', 'last_modified_date': '2024-06-04'}, excluded_embed_metadata_keys=['file_name', 'file_type', 'file_size', 'creation_date', 'last_modified_date', 'last_accessed_date'], excluded_llm_metadata_keys=['file_name', 'file_type', 'file_size', 'creation_date', 'last_modified_date', 'last_accessed_date'], relationships={}, text='69\\n', start_char_idx=None, end_char_idx=None, text_template='{metadata_str}\\n\\n{content}', metadata_template='{key}: {value}', metadata_seperator='\\n'),\n",
       " Document(id_='d567881b-4cee-441e-8be1-b3cdafcbcee0', embedding=None, metadata={'page_label': '70', 'file_name': 'ai.pdf', 'file_path': 'c:\\\\Users\\\\user\\\\PycharmProjects\\\\RAG_Query_OpenAI\\\\input\\\\ai.pdf', 'file_type': 'application/pdf', 'file_size': 2623149, 'creation_date': '2024-06-04', 'last_modified_date': '2024-06-04'}, excluded_embed_metadata_keys=['file_name', 'file_type', 'file_size', 'creation_date', 'last_modified_date', 'last_accessed_date'], excluded_llm_metadata_keys=['file_name', 'file_type', 'file_size', 'creation_date', 'last_modified_date', 'last_accessed_date'], relationships={}, text='70\\n', start_char_idx=None, end_char_idx=None, text_template='{metadata_str}\\n\\n{content}', metadata_template='{key}: {value}', metadata_seperator='\\n'),\n",
       " Document(id_='8c26c073-ffa7-49aa-8347-722fe4bbf5d1', embedding=None, metadata={'page_label': '71', 'file_name': 'ai.pdf', 'file_path': 'c:\\\\Users\\\\user\\\\PycharmProjects\\\\RAG_Query_OpenAI\\\\input\\\\ai.pdf', 'file_type': 'application/pdf', 'file_size': 2623149, 'creation_date': '2024-06-04', 'last_modified_date': '2024-06-04'}, excluded_embed_metadata_keys=['file_name', 'file_type', 'file_size', 'creation_date', 'last_modified_date', 'last_accessed_date'], excluded_llm_metadata_keys=['file_name', 'file_type', 'file_size', 'creation_date', 'last_modified_date', 'last_accessed_date'], relationships={}, text='71\\n THE END ', start_char_idx=None, end_char_idx=None, text_template='{metadata_str}\\n\\n{content}', metadata_template='{key}: {value}', metadata_seperator='\\n')]"
      ]
     },
     "execution_count": 4,
     "metadata": {},
     "output_type": "execute_result"
    }
   ],
   "source": [
    "documents"
   ]
  },
  {
   "cell_type": "code",
   "execution_count": 5,
   "metadata": {},
   "outputs": [
    {
     "name": "stderr",
     "output_type": "stream",
     "text": [
      "c:\\Users\\user\\PycharmProjects\\RAG_Query_OpenAI\\llama_env2\\Lib\\site-packages\\tqdm\\auto.py:21: TqdmWarning: IProgress not found. Please update jupyter and ipywidgets. See https://ipywidgets.readthedocs.io/en/stable/user_install.html\n",
      "  from .autonotebook import tqdm as notebook_tqdm\n",
      "Parsing nodes: 100%|██████████| 71/71 [00:00<00:00, 6454.59it/s]\n",
      "Generating embeddings: 100%|██████████| 71/71 [00:02<00:00, 30.31it/s]\n"
     ]
    }
   ],
   "source": [
    "index = VectorStoreIndex.from_documents(documents, show_progress= True)"
   ]
  },
  {
   "cell_type": "code",
   "execution_count": 6,
   "metadata": {},
   "outputs": [
    {
     "data": {
      "text/plain": [
       "<llama_index.core.indices.vector_store.base.VectorStoreIndex at 0x1b7be8e1d10>"
      ]
     },
     "execution_count": 6,
     "metadata": {},
     "output_type": "execute_result"
    }
   ],
   "source": [
    "index"
   ]
  },
  {
   "cell_type": "code",
   "execution_count": 7,
   "metadata": {},
   "outputs": [],
   "source": [
    "query_engine = index.as_query_engine()"
   ]
  },
  {
   "cell_type": "code",
   "execution_count": 9,
   "metadata": {},
   "outputs": [],
   "source": [
    "response = query_engine.query(\"What is Artificial Intelligence?\")"
   ]
  },
  {
   "cell_type": "code",
   "execution_count": 10,
   "metadata": {},
   "outputs": [
    {
     "data": {
      "text/plain": [
       "Response(response='Artificial Intelligence (AI) is intelligence demonstrated by machines, in contrast to the natural intelligence displayed by humans and other animals. It involves machines being able to learn and solve problems, and in computer science, AI research focuses on studying \"intelligent agents\" that can perceive their environment and take actions to achieve their goals.', source_nodes=[NodeWithScore(node=TextNode(id_='30234566-b366-4012-b8ed-e94c11cd3b2a', embedding=None, metadata={'page_label': '2', 'file_name': 'ai.pdf', 'file_path': 'c:\\\\Users\\\\user\\\\PycharmProjects\\\\RAG_Query_OpenAI\\\\input\\\\ai.pdf', 'file_type': 'application/pdf', 'file_size': 2623149, 'creation_date': '2024-06-04', 'last_modified_date': '2024-06-04'}, excluded_embed_metadata_keys=['file_name', 'file_type', 'file_size', 'creation_date', 'last_modified_date', 'last_accessed_date'], excluded_llm_metadata_keys=['file_name', 'file_type', 'file_size', 'creation_date', 'last_modified_date', 'last_accessed_date'], relationships={<NodeRelationship.SOURCE: '1'>: RelatedNodeInfo(node_id='ba2346b4-c483-4eeb-921d-b7e950bf1b07', node_type=<ObjectType.DOCUMENT: '4'>, metadata={'page_label': '2', 'file_name': 'ai.pdf', 'file_path': 'c:\\\\Users\\\\user\\\\PycharmProjects\\\\RAG_Query_OpenAI\\\\input\\\\ai.pdf', 'file_type': 'application/pdf', 'file_size': 2623149, 'creation_date': '2024-06-04', 'last_modified_date': '2024-06-04'}, hash='43eda649471c8b4defd5e4000e37460295f893186d7a356f51e4691c02b6e221')}, text='2\\n•Artificial intelligence (AI), sometimes called machine intelligence , \\nisintelligence demonstrated by machines, in contrast to the natural \\nintelligence displayed by humans and other animals, such as \"learning\" \\nand \"problem solving. . \\n\\uf0d8Incomputer science AI research is defined as the study of \\n\"intelligent agents\": any device that perceives its environment and \\ntakes actions that maximize its chance of successfully achieving its \\ngoals.', start_char_idx=0, end_char_idx=445, text_template='{metadata_str}\\n\\n{content}', metadata_template='{key}: {value}', metadata_seperator='\\n'), score=0.8777431365368287), NodeWithScore(node=TextNode(id_='5859b8a0-6caf-45fa-b08b-d9c5b4228dfe', embedding=None, metadata={'page_label': '12', 'file_name': 'ai.pdf', 'file_path': 'c:\\\\Users\\\\user\\\\PycharmProjects\\\\RAG_Query_OpenAI\\\\input\\\\ai.pdf', 'file_type': 'application/pdf', 'file_size': 2623149, 'creation_date': '2024-06-04', 'last_modified_date': '2024-06-04'}, excluded_embed_metadata_keys=['file_name', 'file_type', 'file_size', 'creation_date', 'last_modified_date', 'last_accessed_date'], excluded_llm_metadata_keys=['file_name', 'file_type', 'file_size', 'creation_date', 'last_modified_date', 'last_accessed_date'], relationships={<NodeRelationship.SOURCE: '1'>: RelatedNodeInfo(node_id='d9023e79-136f-402d-bc06-3d3e8ba32b2a', node_type=<ObjectType.DOCUMENT: '4'>, metadata={'page_label': '12', 'file_name': 'ai.pdf', 'file_path': 'c:\\\\Users\\\\user\\\\PycharmProjects\\\\RAG_Query_OpenAI\\\\input\\\\ai.pdf', 'file_type': 'application/pdf', 'file_size': 2623149, 'creation_date': '2024-06-04', 'last_modified_date': '2024-06-04'}, hash='ac548505c3c0ca0dd0b3ecc8e5aefa6b80c1a866174116d2ac0485fc2bd8ba4e')}, text='From SIRI and Alexa, to self -driving cars, artificial \\nintelligence (AI) is progressing rapidly. \\nWhile science fiction often portrays AI as robots with human -like \\ncharacteristics, AI can encompass anything from Google’s search \\nalgorithms, to IBM’s Watson, to autonomous weapons.\\nArtificial intelligence today is properly known as narrow AI \\n(or weak AI) , in that it is designed to perform a narrow \\ntask such as only facial recognition, or only internet \\nsearches, or only driving a car). \\nHowever, the long -term goal of many researchers is to \\ncreate general AI (AGI or strong AI) . \\nWhile narrow AI may outperform humans at whatever its \\nspecific task is, like playing chess or solving equations, AGI \\nwould outperform humans at nearly every thinking task.\\n12', start_char_idx=0, end_char_idx=768, text_template='{metadata_str}\\n\\n{content}', metadata_template='{key}: {value}', metadata_seperator='\\n'), score=0.8685441135009234)], metadata={'30234566-b366-4012-b8ed-e94c11cd3b2a': {'page_label': '2', 'file_name': 'ai.pdf', 'file_path': 'c:\\\\Users\\\\user\\\\PycharmProjects\\\\RAG_Query_OpenAI\\\\input\\\\ai.pdf', 'file_type': 'application/pdf', 'file_size': 2623149, 'creation_date': '2024-06-04', 'last_modified_date': '2024-06-04'}, '5859b8a0-6caf-45fa-b08b-d9c5b4228dfe': {'page_label': '12', 'file_name': 'ai.pdf', 'file_path': 'c:\\\\Users\\\\user\\\\PycharmProjects\\\\RAG_Query_OpenAI\\\\input\\\\ai.pdf', 'file_type': 'application/pdf', 'file_size': 2623149, 'creation_date': '2024-06-04', 'last_modified_date': '2024-06-04'}})"
      ]
     },
     "execution_count": 10,
     "metadata": {},
     "output_type": "execute_result"
    }
   ],
   "source": [
    "response"
   ]
  },
  {
   "cell_type": "code",
   "execution_count": 11,
   "metadata": {},
   "outputs": [
    {
     "name": "stdout",
     "output_type": "stream",
     "text": [
      "Identifying objects in a picture, counting the distribution of letters in a book, adding a thousand 4-digit numbers, matching fingerprints, and searching a list of a million values for duplicates.\n"
     ]
    }
   ],
   "source": [
    "response = query_engine.query(\"What are 5 skills Artificial Intelligence?\")\n",
    "print(response)"
   ]
  },
  {
   "cell_type": "code",
   "execution_count": 13,
   "metadata": {},
   "outputs": [
    {
     "name": "stdout",
     "output_type": "stream",
     "text": [
      "Final Response: Identifying objects in a picture, counting the\n",
      "distribution of letters in a book, adding a thousand 4-digit numbers,\n",
      "matching fingerprints, and searching a list of a million values for\n",
      "duplicates.\n",
      "______________________________________________________________________\n",
      "Source Node 1/2\n",
      "Node ID: 5859b8a0-6caf-45fa-b08b-d9c5b4228dfe\n",
      "Similarity: 0.8385261830951942\n",
      "Text: From SIRI and Alexa, to self -driving cars, artificial\n",
      "intelligence (AI) is progressing rapidly.  While science fiction often\n",
      "portrays AI as robots with human -like  characteristics, AI can\n",
      "encompass anything from Google’s search  algorithms, to IBM’s Watson,\n",
      "to autonomous weapons. Artificial intelligence today is properly known\n",
      "as narrow AI  (...\n",
      "______________________________________________________________________\n",
      "Source Node 2/2\n",
      "Node ID: bc894261-ae1b-40af-87e4-f8a0d30427a8\n",
      "Similarity: 0.8324420466277935\n",
      "Text: This is what  Humans do  best Can you list  the items in  this\n",
      "picture ? A computer  might have  trouble  identifying the  cat\n",
      "there.Can you count the  distribution of  letters in a book? Add a\n",
      "thousand   4-digit numbers? Match finger  prints? Search a list of a\n",
      "million values for duplicates ?This is what  Computers do\n",
      "bestArtificial intelligen...\n",
      "Identifying objects in a picture, counting the distribution of letters in a book, adding a thousand 4-digit numbers, matching fingerprints, and searching a list of a million values for duplicates.\n"
     ]
    }
   ],
   "source": [
    "from llama_index.core.response.pprint_utils import pprint_response\n",
    "pprint_response(response, show_source = True)\n",
    "print(response)\n"
   ]
  },
  {
   "cell_type": "code",
   "execution_count": 14,
   "metadata": {},
   "outputs": [],
   "source": [
    "from llama_index.core.retrievers import VectorIndexRetriever\n",
    "from llama_index.core.query_engine import RetrieverQueryEngine\n",
    "from llama_index.core.indices.postprocessor import SimilarityPostprocessor"
   ]
  },
  {
   "cell_type": "code",
   "execution_count": 27,
   "metadata": {},
   "outputs": [],
   "source": [
    "retriever = VectorIndexRetriever(index = index, similarity_top_k=4)\n",
    "                                 \n",
    "query_engine=RetrieverQueryEngine(retriever=retriever)"
   ]
  },
  {
   "cell_type": "code",
   "execution_count": 28,
   "metadata": {},
   "outputs": [
    {
     "name": "stdout",
     "output_type": "stream",
     "text": [
      "Final Response: Problem solving, planning, and search; Knowledge\n",
      "Representation; Automated reasoning / Inference; Machine Learning;\n",
      "Natural Language Processing; Computer Vision; Robotics.\n",
      "______________________________________________________________________\n",
      "Source Node 1/4\n",
      "Node ID: 5859b8a0-6caf-45fa-b08b-d9c5b4228dfe\n",
      "Similarity: 0.8517204193212033\n",
      "Text: From SIRI and Alexa, to self -driving cars, artificial\n",
      "intelligence (AI) is progressing rapidly.  While science fiction often\n",
      "portrays AI as robots with human -like  characteristics, AI can\n",
      "encompass anything from Google’s search  algorithms, to IBM’s Watson,\n",
      "to autonomous weapons. Artificial intelligence today is properly known\n",
      "as narrow AI  (...\n",
      "______________________________________________________________________\n",
      "Source Node 2/4\n",
      "Node ID: 2aa3715a-6db1-4921-be58-81c22c745d1d\n",
      "Similarity: 0.8475427452010023\n",
      "Text: KEY RESEARCH AREAS IN AI •Problem solving, planning, and search\n",
      "---generic problem solving  architecture based on ideas from cognitive\n",
      "science (game playing,  robotics). •Knowledge Representation –to store\n",
      "and manipulate information  (logical and probabilistic\n",
      "representations) •Automated reasoning / Inference –to use the stored\n",
      "information to  a...\n",
      "______________________________________________________________________\n",
      "Source Node 3/4\n",
      "Node ID: 5dc8e440-39af-4a4f-a32c-056277590b78\n",
      "Similarity: 0.831931097449124\n",
      "Text: 12-341)  Expert Learning Systems •Expert Learning Systems were\n",
      "commercially the first and most  successful domain in Artificial\n",
      "Intelligence. •Somewhat out of favor today •These programs mimic the\n",
      "experts in whatever field is being  studied. Auto mechanic Telephone\n",
      "networking Cardiologist Delivery routing Organic compounds\n",
      "Professional auditor M...\n",
      "______________________________________________________________________\n",
      "Source Node 4/4\n",
      "Node ID: 30234566-b366-4012-b8ed-e94c11cd3b2a\n",
      "Similarity: 0.8299620279894284\n",
      "Text: 2 •Artificial intelligence (AI), sometimes called machine\n",
      "intelligence ,  isintelligence demonstrated by machines, in contrast\n",
      "to the natural  intelligence displayed by humans and other animals,\n",
      "such as \"learning\"  and \"problem solving. .  Incomputer science AI\n",
      "research is defined as the study of  \"intelligent agents\": any device\n",
      "that perceives...\n"
     ]
    }
   ],
   "source": [
    "response = query_engine.query(\"What are the research areas in Artificial Intelligence?\")\n",
    "pprint_response(response, show_source = True)\n",
    "# print(response)"
   ]
  },
  {
   "cell_type": "code",
   "execution_count": null,
   "metadata": {},
   "outputs": [],
   "source": []
  },
  {
   "cell_type": "code",
   "execution_count": 30,
   "metadata": {},
   "outputs": [],
   "source": [
    "retriever = VectorIndexRetriever(index = index, similarity_top_k=3)\n",
    "postprocessor = SimilarityPostprocessor(similarity_cutoff=0.84)\n",
    "query_engine=RetrieverQueryEngine(retriever=retriever, node_postprocessors=[postprocessor])"
   ]
  },
  {
   "cell_type": "code",
   "execution_count": 31,
   "metadata": {},
   "outputs": [
    {
     "name": "stdout",
     "output_type": "stream",
     "text": [
      "Final Response: Problem solving, planning, and search; Knowledge\n",
      "Representation; Automated reasoning / Inference; Machine Learning;\n",
      "Natural Language Processing; Computer Vision; Robotics.\n",
      "______________________________________________________________________\n",
      "Source Node 1/2\n",
      "Node ID: 5859b8a0-6caf-45fa-b08b-d9c5b4228dfe\n",
      "Similarity: 0.8517204193212033\n",
      "Text: From SIRI and Alexa, to self -driving cars, artificial\n",
      "intelligence (AI) is progressing rapidly.  While science fiction often\n",
      "portrays AI as robots with human -like  characteristics, AI can\n",
      "encompass anything from Google’s search  algorithms, to IBM’s Watson,\n",
      "to autonomous weapons. Artificial intelligence today is properly known\n",
      "as narrow AI  (...\n",
      "______________________________________________________________________\n",
      "Source Node 2/2\n",
      "Node ID: 2aa3715a-6db1-4921-be58-81c22c745d1d\n",
      "Similarity: 0.8475427452010023\n",
      "Text: KEY RESEARCH AREAS IN AI •Problem solving, planning, and search\n",
      "---generic problem solving  architecture based on ideas from cognitive\n",
      "science (game playing,  robotics). •Knowledge Representation –to store\n",
      "and manipulate information  (logical and probabilistic\n",
      "representations) •Automated reasoning / Inference –to use the stored\n",
      "information to  a...\n",
      "Problem solving, planning, and search; Knowledge Representation; Automated reasoning / Inference; Machine Learning; Natural Language Processing; Computer Vision; Robotics.\n"
     ]
    }
   ],
   "source": [
    "response = query_engine.query(\"What are the research areas in Artificial Intelligence?\")\n",
    "pprint_response(response, show_source = True)\n",
    "print(response)"
   ]
  },
  {
   "cell_type": "code",
   "execution_count": 32,
   "metadata": {},
   "outputs": [],
   "source": [
    "import os.path\n",
    "from llama_index.core import (\n",
    "    VectorStoreIndex,\n",
    "    SimpleDirectoryReader,\n",
    "    StorageContext,\n",
    "    load_index_from_storage,\n",
    ")\n",
    "\n"
   ]
  },
  {
   "cell_type": "markdown",
   "metadata": {},
   "source": [
    "#This is to query from the vector embeddings stored in the local"
   ]
  },
  {
   "cell_type": "code",
   "execution_count": 35,
   "metadata": {},
   "outputs": [
    {
     "name": "stdout",
     "output_type": "stream",
     "text": [
      "Problem solving, planning, and search; Knowledge Representation; Automated reasoning / Inference; Machine Learning; Natural Language Processing; Computer Vision; Robotics.\n"
     ]
    }
   ],
   "source": [
    "\n",
    "PERSIST_DIR = \"./vecor_storage\"\n",
    "if not os.path.exists(PERSIST_DIR):\n",
    "    \n",
    "    documents = SimpleDirectoryReader(\"input\").load_data()\n",
    "    index = VectorStoreIndex.from_documents(documents)\n",
    "    \n",
    "    index.storage_context.persist(persist_dir=PERSIST_DIR)\n",
    "else:\n",
    "    \n",
    "    storage_context = StorageContext.from_defaults(persist_dir=PERSIST_DIR)\n",
    "    index = load_index_from_storage(storage_context)\n",
    "\n",
    "# either way we can now query the index\n",
    "query_engine = index.as_query_engine()\n",
    "response = query_engine.query(\"What are the research areas in Artificial Intelligence?\")\n",
    "print(response)"
   ]
  }
 ],
 "metadata": {
  "kernelspec": {
   "display_name": "Python 3",
   "language": "python",
   "name": "python3"
  },
  "language_info": {
   "codemirror_mode": {
    "name": "ipython",
    "version": 3
   },
   "file_extension": ".py",
   "mimetype": "text/x-python",
   "name": "python",
   "nbconvert_exporter": "python",
   "pygments_lexer": "ipython3",
   "version": "3.11.0"
  }
 },
 "nbformat": 4,
 "nbformat_minor": 2
}
